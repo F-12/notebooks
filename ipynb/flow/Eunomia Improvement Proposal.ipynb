{
 "cells": [
  {
   "cell_type": "markdown",
   "metadata": {
    "slideshow": {
     "slide_type": "skip"
    },
    "toc": true
   },
   "source": [
    "<h1>Table of Contents<span class=\"tocSkip\"></span></h1>\n",
    "<div class=\"toc\"><ul class=\"toc-item\"><li><span><a href=\"#现状\" data-toc-modified-id=\"现状-1\">现状</a></span><ul class=\"toc-item\"><li><ul class=\"toc-item\"><li><span><a href=\"#配置多且不好理解\" data-toc-modified-id=\"配置多且不好理解-1.0.1\">配置多且不好理解</a></span></li><li><span><a href=\"#几乎没有测试支持\" data-toc-modified-id=\"几乎没有测试支持-1.0.2\">几乎没有测试支持</a></span></li><li><span><a href=\"#Business-Flow创建复杂\" data-toc-modified-id=\"Business-Flow创建复杂-1.0.3\">Business Flow创建复杂</a></span></li><li><span><a href=\"#微服务接入需要了解eunomia工作机制\" data-toc-modified-id=\"微服务接入需要了解eunomia工作机制-1.0.4\">微服务接入需要了解eunomia工作机制</a></span></li></ul></li></ul></li><li><span><a href=\"#目标\" data-toc-modified-id=\"目标-2\">目标</a></span><ul class=\"toc-item\"><li><span><a href=\"#最小化零配置\" data-toc-modified-id=\"最小化零配置-2.1\">最小化零配置</a></span></li><li><span><a href=\"#规范化Event/Command接口\" data-toc-modified-id=\"规范化Event/Command接口-2.2\">规范化Event/Command接口</a></span></li><li><span><a href=\"#更清晰的Flow模型\" data-toc-modified-id=\"更清晰的Flow模型-2.3\">更清晰的Flow模型</a></span></li><li><span><a href=\"#支持扩容\" data-toc-modified-id=\"支持扩容-2.4\">支持扩容</a></span></li></ul></li><li><span><a href=\"#特性\" data-toc-modified-id=\"特性-3\">特性</a></span><ul class=\"toc-item\"><li><span><a href=\"#服务配置数据自动上报与收集\" data-toc-modified-id=\"服务配置数据自动上报与收集-3.1\">服务配置数据自动上报与收集</a></span></li><li><span><a href=\"#Event/Command开发框架\" data-toc-modified-id=\"Event/Command开发框架-3.2\">Event/Command开发框架</a></span></li><li><span><a href=\"#微服务Pipe\" data-toc-modified-id=\"微服务Pipe-3.3\">微服务Pipe</a></span></li><li><span><a href=\"#Flow管理\" data-toc-modified-id=\"Flow管理-3.4\">Flow管理</a></span><ul class=\"toc-item\"><li><span><a href=\"#Flow-Planning\" data-toc-modified-id=\"Flow-Planning-3.4.1\">Flow Planning</a></span></li><li><span><a href=\"#Flow实现进度监控\" data-toc-modified-id=\"Flow实现进度监控-3.4.2\">Flow实现进度监控</a></span></li><li><span><a href=\"#Flow版本控制\" data-toc-modified-id=\"Flow版本控制-3.4.3\">Flow版本控制</a></span></li></ul></li><li><span><a href=\"#Command-Driver支持测试\" data-toc-modified-id=\"Command-Driver支持测试-3.5\">Command Driver支持测试</a></span></li><li><span><a href=\"#横向扩展\" data-toc-modified-id=\"横向扩展-3.6\">横向扩展</a></span></li></ul></li><li><span><a href=\"#用例\" data-toc-modified-id=\"用例-4\">用例</a></span></li><li><span><a href=\"#建模\" data-toc-modified-id=\"建模-5\">建模</a></span></li><li><span><a href=\"#开发规划\" data-toc-modified-id=\"开发规划-6\">开发规划</a></span><ul class=\"toc-item\"><li><span><a href=\"#组件\" data-toc-modified-id=\"组件-6.1\">组件</a></span><ul class=\"toc-item\"><li><span><a href=\"#Master\" data-toc-modified-id=\"Master-6.1.1\">Master</a></span></li><li><span><a href=\"#Orchestrator\" data-toc-modified-id=\"Orchestrator-6.1.2\">Orchestrator</a></span></li><li><span><a href=\"#Agent\" data-toc-modified-id=\"Agent-6.1.3\">Agent</a></span><ul class=\"toc-item\"><li><span><a href=\"#配置信息上报\" data-toc-modified-id=\"配置信息上报-6.1.3.1\">配置信息上报</a></span></li><li><span><a href=\"#Event/Command开发框架\" data-toc-modified-id=\"Event/Command开发框架-6.1.3.2\">Event/Command开发框架</a></span></li></ul></li></ul></li></ul></li></ul></div>"
   ]
  },
  {
   "cell_type": "markdown",
   "metadata": {
    "slideshow": {
     "slide_type": "slide"
    }
   },
   "source": [
    "# 现状"
   ]
  },
  {
   "cell_type": "markdown",
   "metadata": {
    "slideshow": {
     "slide_type": "subslide"
    }
   },
   "source": [
    "### 配置多且不好理解\n",
    "\n",
    "### 几乎没有测试支持\n",
    "\n",
    "### Business Flow创建复杂\n",
    "\n",
    "### 微服务接入需要了解eunomia工作机制"
   ]
  },
  {
   "cell_type": "markdown",
   "metadata": {
    "slideshow": {
     "slide_type": "slide"
    }
   },
   "source": [
    "# 目标"
   ]
  },
  {
   "cell_type": "markdown",
   "metadata": {
    "slideshow": {
     "slide_type": "subslide"
    }
   },
   "source": [
    "## 最小化零配置\n",
    "\n",
    "## 规范化Event/Command接口\n",
    "\n",
    "## 更清晰的Flow模型\n",
    "\n",
    "## 支持扩容"
   ]
  },
  {
   "cell_type": "markdown",
   "metadata": {
    "slideshow": {
     "slide_type": "slide"
    }
   },
   "source": [
    "# 特性"
   ]
  },
  {
   "cell_type": "markdown",
   "metadata": {
    "slideshow": {
     "slide_type": "subslide"
    }
   },
   "source": [
    "## 服务配置数据自动上报与收集"
   ]
  },
  {
   "cell_type": "markdown",
   "metadata": {
    "slideshow": {
     "slide_type": "subslide"
    }
   },
   "source": [
    "## Event/Command开发框架"
   ]
  },
  {
   "cell_type": "markdown",
   "metadata": {
    "slideshow": {
     "slide_type": "subslide"
    }
   },
   "source": [
    "## 微服务Pipe"
   ]
  },
  {
   "cell_type": "markdown",
   "metadata": {
    "slideshow": {
     "slide_type": "subslide"
    }
   },
   "source": [
    "## Flow管理\n",
    "\n",
    "### Flow Planning\n",
    "\n",
    "### Flow实现进度监控\n",
    "\n",
    "### Flow版本控制"
   ]
  },
  {
   "cell_type": "markdown",
   "metadata": {
    "slideshow": {
     "slide_type": "subslide"
    }
   },
   "source": [
    "## Command Driver支持测试"
   ]
  },
  {
   "cell_type": "markdown",
   "metadata": {
    "slideshow": {
     "slide_type": "subslide"
    }
   },
   "source": [
    "## 横向扩展"
   ]
  },
  {
   "cell_type": "markdown",
   "metadata": {
    "slideshow": {
     "slide_type": "slide"
    }
   },
   "source": [
    "# 用例"
   ]
  },
  {
   "cell_type": "markdown",
   "metadata": {
    "slideshow": {
     "slide_type": "subslide"
    }
   },
   "source": [
    "![UC1](Eunomia Improvement Proposal/UC1_单线流程.png)"
   ]
  },
  {
   "cell_type": "markdown",
   "metadata": {
    "slideshow": {
     "slide_type": "subslide"
    }
   },
   "source": [
    "![UC1](Eunomia Improvement Proposal/UC2_ 分叉流程.png)"
   ]
  },
  {
   "cell_type": "markdown",
   "metadata": {
    "slideshow": {
     "slide_type": "subslide"
    }
   },
   "source": [
    "![UC1](Eunomia Improvement Proposal/UC3_ 服务复用.png)"
   ]
  },
  {
   "cell_type": "markdown",
   "metadata": {
    "slideshow": {
     "slide_type": "subslide"
    }
   },
   "source": [
    "![UC1](Eunomia Improvement Proposal/UC4_ 子流程复用.png)"
   ]
  },
  {
   "cell_type": "markdown",
   "metadata": {
    "slideshow": {
     "slide_type": "slide"
    }
   },
   "source": [
    "# 建模"
   ]
  },
  {
   "cell_type": "markdown",
   "metadata": {
    "slideshow": {
     "slide_type": "subslide"
    }
   },
   "source": [
    "![Master/Orchestrator对象图](Eunomia Improvement Proposal/Master_Orchestrator对象图.png)"
   ]
  },
  {
   "cell_type": "markdown",
   "metadata": {
    "slideshow": {
     "slide_type": "subslide"
    }
   },
   "source": [
    "![Agent对象图](Eunomia Improvement Proposal/Agent对象图.png)"
   ]
  },
  {
   "cell_type": "markdown",
   "metadata": {
    "slideshow": {
     "slide_type": "slide"
    }
   },
   "source": [
    "# 开发规划"
   ]
  },
  {
   "cell_type": "markdown",
   "metadata": {
    "slideshow": {
     "slide_type": "subslide"
    }
   },
   "source": [
    "## 组件\n",
    "\n",
    "- Master\n",
    "- Orchestrator\n",
    "- Agent"
   ]
  },
  {
   "cell_type": "markdown",
   "metadata": {
    "slideshow": {
     "slide_type": "subslide"
    }
   },
   "source": [
    "### Master\n",
    "\n",
    "- 收集从microservices上报的配置数据\n",
    "- 维护flow资源，包括flow的创建，更新和删除\n",
    "- 维护pipe资源的创建，完成业务流的连接\n",
    "- flow planning功能的底层支持"
   ]
  },
  {
   "cell_type": "markdown",
   "metadata": {
    "slideshow": {
     "slide_type": "subslide"
    }
   },
   "source": [
    "### Orchestrator\n",
    "\n",
    "- 使用master创建的flow资源\n",
    "- 接收microservices发送的event\n",
    "- 根据flow给下游microservice下发command"
   ]
  },
  {
   "cell_type": "markdown",
   "metadata": {
    "slideshow": {
     "slide_type": "subslide"
    }
   },
   "source": [
    "### Agent\n",
    "\n",
    "- 收集microservices里定义Event和Command Handler信息\n",
    "- 计算配置信息并上报给master\n",
    "- 分发来自orchestrator下发的command给对应command handler"
   ]
  },
  {
   "cell_type": "markdown",
   "metadata": {
    "slideshow": {
     "slide_type": "subslide"
    }
   },
   "source": [
    "#### 配置信息上报"
   ]
  },
  {
   "cell_type": "markdown",
   "metadata": {
    "slideshow": {
     "slide_type": "subslide"
    }
   },
   "source": [
    "- classpath下搜索Event子类列表Event Class list\n",
    "- 从Event的Class对象中获取Simple Name作为其Event Type\n",
    "\n",
    "- classpath下搜索CommandHandler子类列表CommandHandler Class list"
   ]
  },
  {
   "cell_type": "markdown",
   "metadata": {
    "slideshow": {
     "slide_type": "subslide"
    }
   },
   "source": [
    "#### Event/Command开发框架"
   ]
  },
  {
   "cell_type": "markdown",
   "metadata": {
    "slideshow": {
     "slide_type": "subslide"
    }
   },
   "source": [
    "##### Event部分"
   ]
  },
  {
   "cell_type": "markdown",
   "metadata": {
    "slideshow": {
     "slide_type": "subslide"
    }
   },
   "source": [
    "**Publisher.class** from agent jar\n",
    "\n",
    "```java\n",
    "interface Publisher {\n",
    "    Future publish(Event e);\n",
    "    \n",
    "    <T> T publishSync(Event e);\n",
    "}\n",
    "```"
   ]
  },
  {
   "cell_type": "markdown",
   "metadata": {
    "slideshow": {
     "slide_type": "subslide"
    }
   },
   "source": [
    "**Event.class** from agent jar\n",
    "\n",
    "~~~java\n",
    "class abstract Event<T extends Serializable> {\n",
    "    \n",
    "    List<EventHeader> headers;\n",
    "    \n",
    "    T message;\n",
    "    \n",
    "    abstract Class<T> getMessageType();\n",
    "}\n",
    "~~~"
   ]
  },
  {
   "cell_type": "markdown",
   "metadata": {
    "slideshow": {
     "slide_type": "subslide"
    }
   },
   "source": [
    "**EventHeader.class** from agent jar\n",
    "\n",
    "```java\n",
    "class EventHeader {\n",
    "    String key;\n",
    "    String value;\n",
    "}\n",
    "```"
   ]
  },
  {
   "cell_type": "markdown",
   "metadata": {
    "slideshow": {
     "slide_type": "subslide"
    }
   },
   "source": [
    "**CreateBookingEvent.class** from service\n",
    "\n",
    "```java\n",
    "class CreateBookingEvent extends Event<BookingMessage> {\n",
    "\n",
    "    Class<BookingMessage> getMessageType() {\n",
    "        return BookingMessage.class;\n",
    "    }\n",
    "}\n",
    "```"
   ]
  },
  {
   "cell_type": "markdown",
   "metadata": {
    "slideshow": {
     "slide_type": "subslide"
    }
   },
   "source": [
    "**BookingMessage.class** from service\n",
    "\n",
    "```java\n",
    "class BookingMessage {\n",
    "    String id;\n",
    "    String vin;\n",
    "    String bookingDate;\n",
    "\n",
    "    // more members...\n",
    "}\n",
    "```"
   ]
  },
  {
   "cell_type": "markdown",
   "metadata": {
    "slideshow": {
     "slide_type": "subslide"
    }
   },
   "source": [
    "**BookingService.class** from service\n",
    "\n",
    "```java\n",
    "class BookingService {\n",
    "\n",
    "    @Autowired\n",
    "    Publisher pub;\n",
    "    \n",
    "    Booking createBooking(Booking b) {\n",
    "        // some logic\n",
    "        \n",
    "        CreateBookingEvent createBookingEvent = new CreateBookingEvent();\n",
    "        Future<Booking> createResponse = pub.publish(createBookingEvent);\n",
    "        // some logic\n",
    "        \n",
    "        Booking createdBooking = createResponse.get();\n",
    "        return createdBooking;\n",
    "    }\n",
    "}\n",
    "```"
   ]
  },
  {
   "cell_type": "markdown",
   "metadata": {
    "slideshow": {
     "slide_type": "subslide"
    }
   },
   "source": [
    "**AnotherBookingService.class** from service\n",
    "```java\n",
    "class AnotherBookingService {\n",
    "\n",
    "    @Autowired\n",
    "    Publisher pub;\n",
    "    \n",
    "    Booking createBooking(Booking b) {\n",
    "        // some logic\n",
    "        \n",
    "        CreateBookingEvent createBookingEvent = new CreateBookingEvent();\n",
    "        Booking createResponse = pub.publishSync(createBookingEvent);\n",
    "        // some logic\n",
    "        \n",
    "        return createdBooking;\n",
    "    }\n",
    "}\n",
    "```"
   ]
  },
  {
   "cell_type": "markdown",
   "metadata": {
    "slideshow": {
     "slide_type": "subslide"
    }
   },
   "source": [
    "##### Command部分"
   ]
  },
  {
   "cell_type": "markdown",
   "metadata": {
    "slideshow": {
     "slide_type": "subslide"
    }
   },
   "source": [
    "**Dispatcher.class** from agent jar\n",
    "```java\n",
    "class Dispatcher {\n",
    "\n",
    "    Map<String, CommandHandler> commanderHandlers;\n",
    "    \n",
    "    void dispatch(Command command) {\n",
    "        CommandHander handler = commandHandlers.get(command.getType());\n",
    "        ConcreateCommand concreteCommand = concrete(handler.getCommandType(), command);\n",
    "        try {\n",
    "            handler.handle(concreteCommand);\n",
    "        } catch(CommandProcessException e) {\n",
    "            handler.abort(command)\n",
    "        }\n",
    "    }\n",
    "    \n",
    "    <T> T concrete(Class<?> commandType, Command command) {\n",
    "        // convert command to concrete command accroding Class meta data\n",
    "    }\n",
    "    \n",
    "}\n",
    "```"
   ]
  },
  {
   "cell_type": "markdown",
   "metadata": {
    "slideshow": {
     "slide_type": "subslide"
    }
   },
   "source": [
    "**Command.class** from agent jar\n",
    "\n",
    "```java\n",
    "class Command {\n",
    "    String flowId;\n",
    "    String flowVersion;\n",
    "    String transactionId;\n",
    "    String message;\n",
    "    \n",
    "}\n",
    "```"
   ]
  },
  {
   "cell_type": "markdown",
   "metadata": {
    "slideshow": {
     "slide_type": "subslide"
    }
   },
   "source": [
    "**CommandHandler.class** from agent jar\n",
    "\n",
    "```java\n",
    "interface CommandHandler<T extends Command> {\n",
    "\n",
    "    void handle(T command) throws CommandProcessException;\n",
    "    void abort(T command);\n",
    "    Class<T> getCommandType();\n",
    "}\n",
    "```"
   ]
  },
  {
   "cell_type": "markdown",
   "metadata": {
    "slideshow": {
     "slide_type": "subslide"
    }
   },
   "source": [
    "**AbstractCommandHander.class** from agent jar\n",
    "```java\n",
    "class AbstractCommandHander<T extends Command> {\n",
    "\n",
    "    @Autowired\n",
    "    Publisher pub;\n",
    "    \n",
    "    abstract void handle(T command) throws CommandProcessException;\n",
    "    abstract Class<T> getCommandType();\n",
    "    \n",
    "    void abort(T command) {\n",
    "        CommandProcessFailedEvent event = new CommandProcessFailedEvent();\n",
    "        pub.publish(event);\n",
    "    }\n",
    "}\n",
    "```"
   ]
  },
  {
   "cell_type": "markdown",
   "metadata": {
    "slideshow": {
     "slide_type": "subslide"
    }
   },
   "source": [
    "**CreateBookingCommandHandler.class** from service\n",
    "\n",
    "```java\n",
    "class CreateBookingCommandHandler extends AbstractCommandHander<CreateBookingCommand> {\n",
    "    void handle(CreateBookingCommand command) CommandProcessException {\n",
    "        if(everythingIsOk) {\n",
    "            Booking booking = command.getBooking();\n",
    "            // do with booking\n",
    "            \n",
    "        } else {\n",
    "            throw new CommandProcessException(\"ops, exception caught\");\n",
    "        }\n",
    "    }\n",
    "    Class<T> getCommandType() {\n",
    "        return CreateBookingCommand.class;\n",
    "    }\n",
    "}\n",
    "```"
   ]
  },
  {
   "cell_type": "markdown",
   "metadata": {
    "slideshow": {
     "slide_type": "subslide"
    }
   },
   "source": [
    "**CreateBookingCommand.class** from service\n",
    "\n",
    "```java\n",
    "class CreateBookingCommand extends Command<Booking> {\n",
    "    Booking booking;\n",
    "}\n",
    "```"
   ]
  }
 ],
 "metadata": {
  "celltoolbar": "Slideshow",
  "kernelspec": {
   "display_name": "Java",
   "language": "java",
   "name": "java"
  },
  "language_info": {
   "codemirror_mode": "java",
   "file_extension": ".java",
   "mimetype": "text/x-java-source",
   "name": "Java",
   "pygments_lexer": "java",
   "version": "9+181"
  },
  "toc": {
   "base_numbering": 1,
   "nav_menu": {},
   "number_sections": false,
   "sideBar": true,
   "skip_h1_title": false,
   "title_cell": "Table of Contents",
   "title_sidebar": "Contents",
   "toc_cell": true,
   "toc_position": {},
   "toc_section_display": true,
   "toc_window_display": false
  }
 },
 "nbformat": 4,
 "nbformat_minor": 2
}
