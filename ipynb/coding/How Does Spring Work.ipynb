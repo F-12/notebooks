{
 "cells": [
  {
   "cell_type": "markdown",
   "metadata": {
    "slideshow": {
     "slide_type": "skip"
    },
    "toc": true
   },
   "source": [
    "<h1>Table of Contents<span class=\"tocSkip\"></span></h1>\n",
    "<div class=\"toc\"><ul class=\"toc-item\"><li><span><a href=\"#写在前面\" data-toc-modified-id=\"写在前面-1\">写在前面</a></span></li><li><span><a href=\"#背景知识\" data-toc-modified-id=\"背景知识-2\">背景知识</a></span><ul class=\"toc-item\"><li><span><a href=\"#从操作系统的进程开始\" data-toc-modified-id=\"从操作系统的进程开始-2.1\">从操作系统的进程开始</a></span><ul class=\"toc-item\"><li><span><a href=\"#bash中的进程\" data-toc-modified-id=\"bash中的进程-2.1.1\">bash中的进程</a></span></li><li><span><a href=\"#Java进程\" data-toc-modified-id=\"Java进程-2.1.2\">Java进程</a></span></li><li><span><a href=\"#入口class\" data-toc-modified-id=\"入口class-2.1.3\">入口class</a></span></li></ul></li><li><span><a href=\"#Java-Servlet\" data-toc-modified-id=\"Java-Servlet-2.2\">Java Servlet</a></span><ul class=\"toc-item\"><li><span><a href=\"#Servlet规范\" data-toc-modified-id=\"Servlet规范-2.2.1\">Servlet规范</a></span><ul class=\"toc-item\"><li><span><a href=\"#Servlet接口\" data-toc-modified-id=\"Servlet接口-2.2.1.1\">Servlet接口</a></span></li><li><span><a href=\"#GenericServlet\" data-toc-modified-id=\"GenericServlet-2.2.1.2\">GenericServlet</a></span></li><li><span><a href=\"#HttpServlet\" data-toc-modified-id=\"HttpServlet-2.2.1.3\">HttpServlet</a></span></li></ul></li><li><span><a href=\"#Servlet-Container\" data-toc-modified-id=\"Servlet-Container-2.2.2\">Servlet Container</a></span></li><li><span><a href=\"#Web-Server\" data-toc-modified-id=\"Web-Server-2.2.3\">Web Server</a></span></li><li><span><a href=\"#Tomcat\" data-toc-modified-id=\"Tomcat-2.2.4\">Tomcat</a></span></li></ul></li></ul></li><li><span><a href=\"#一个spring-boot应用的构建与执行\" data-toc-modified-id=\"一个spring-boot应用的构建与执行-3\">一个spring-boot应用的构建与执行</a></span><ul class=\"toc-item\"><li><span><a href=\"#使用gradle构建\" data-toc-modified-id=\"使用gradle构建-3.1\">使用gradle构建</a></span></li><li><span><a href=\"#深入构建过程\" data-toc-modified-id=\"深入构建过程-3.2\">深入构建过程</a></span></li><li><span><a href=\"#执行构建结果\" data-toc-modified-id=\"执行构建结果-3.3\">执行构建结果</a></span></li></ul></li><li><span><a href=\"#隐藏的入口点：spring-boot-loader\" data-toc-modified-id=\"隐藏的入口点：spring-boot-loader-4\">隐藏的入口点：spring-boot-loader</a></span><ul class=\"toc-item\"><li><span><a href=\"#标准jar文件\" data-toc-modified-id=\"标准jar文件-4.1\">标准jar文件</a></span></li><li><span><a href=\"#兼容Spring-Boot-Loader的jar文件\" data-toc-modified-id=\"兼容Spring-Boot-Loader的jar文件-4.2\">兼容Spring Boot Loader的jar文件</a></span></li><li><span><a href=\"#Spring-Boot-Loader的启动过程\" data-toc-modified-id=\"Spring-Boot-Loader的启动过程-4.3\">Spring Boot Loader的启动过程</a></span></li></ul></li><li><span><a href=\"#Application启动\" data-toc-modified-id=\"Application启动-5\">Application启动</a></span><ul class=\"toc-item\"><li><span><a href=\"#WebApplicationType\" data-toc-modified-id=\"WebApplicationType-5.1\">WebApplicationType</a></span></li><li><span><a href=\"#ApplicationContext\" data-toc-modified-id=\"ApplicationContext-5.2\">ApplicationContext</a></span></li></ul></li><li><span><a href=\"#spring-boot-starter\" data-toc-modified-id=\"spring-boot-starter-6\">spring-boot-starter</a></span><ul class=\"toc-item\"><li><ul class=\"toc-item\"><li><span><a href=\"#WebServer\" data-toc-modified-id=\"WebServer-6.0.1\">WebServer</a></span></li></ul></li></ul></li><li><span><a href=\"#spring-bean-container\" data-toc-modified-id=\"spring-bean-container-7\">spring bean container</a></span><ul class=\"toc-item\"><li><span><a href=\"#bootstrap过程中的注解\" data-toc-modified-id=\"bootstrap过程中的注解-7.1\">bootstrap过程中的注解</a></span><ul class=\"toc-item\"><li><span><a href=\"#@SpringBootApplication\" data-toc-modified-id=\"@SpringBootApplication-7.1.1\">@SpringBootApplication</a></span></li><li><span><a href=\"#@EnableAutoConfiguration\" data-toc-modified-id=\"@EnableAutoConfiguration-7.1.2\">@EnableAutoConfiguration</a></span></li><li><span><a href=\"#@Configuration\" data-toc-modified-id=\"@Configuration-7.1.3\">@Configuration</a></span></li><li><span><a href=\"#@ComponentScan\" data-toc-modified-id=\"@ComponentScan-7.1.4\">@ComponentScan</a></span></li></ul></li><li><span><a href=\"#config过程的注解处理器\" data-toc-modified-id=\"config过程的注解处理器-7.2\">config过程的注解处理器</a></span><ul class=\"toc-item\"><li><span><a href=\"#定义Annotation-Config-Processors\" data-toc-modified-id=\"定义Annotation-Config-Processors-7.2.1\">定义Annotation Config Processors</a></span></li><li><span><a href=\"#Configuration-Class-Post-Processor\" data-toc-modified-id=\"Configuration-Class-Post-Processor-7.2.2\">Configuration Class Post Processor</a></span></li></ul></li><li><span><a href=\"#spring-bean-management\" data-toc-modified-id=\"spring-bean-management-7.3\">spring bean management</a></span><ul class=\"toc-item\"><li><span><a href=\"#bean-declaration\" data-toc-modified-id=\"bean-declaration-7.3.1\">bean declaration</a></span></li><li><span><a href=\"#bean-creation\" data-toc-modified-id=\"bean-creation-7.3.2\">bean creation</a></span></li><li><span><a href=\"#bean-destruction\" data-toc-modified-id=\"bean-destruction-7.3.3\">bean destruction</a></span></li><li><span><a href=\"#bean-scope\" data-toc-modified-id=\"bean-scope-7.3.4\">bean scope</a></span></li><li><span><a href=\"#bean-resolve\" data-toc-modified-id=\"bean-resolve-7.3.5\">bean resolve</a></span></li></ul></li></ul></li><li><span><a href=\"#spring-autowiring-&amp;-auto-detection\" data-toc-modified-id=\"spring-autowiring-&amp;-auto-detection-8\">spring autowiring &amp; auto-detection</a></span></li><li><span><a href=\"#小结\" data-toc-modified-id=\"小结-9\">小结</a></span></li></ul></div>"
   ]
  },
  {
   "cell_type": "markdown",
   "metadata": {
    "slideshow": {
     "slide_type": "slide"
    }
   },
   "source": [
    "# 写在前面\n",
    "\n",
    "本文是学习Spring过程中的笔记。笔记的主要参考自Spring reference、Spring javadoc、Spring source code。不求面面俱到，这是Spring reference的目标。但求知其然，亦知其所以然。同时，笔记将避免陷入分布式系统设计和领域问题的细节中，而是聚焦Spring所给出的解决方案。\n",
    "\n",
    "一句话概括，笔记的核心是**“How Does Spring Work”**类问题的解答。"
   ]
  },
  {
   "cell_type": "markdown",
   "metadata": {
    "slideshow": {
     "slide_type": "slide"
    }
   },
   "source": [
    "# 背景知识"
   ]
  },
  {
   "cell_type": "markdown",
   "metadata": {
    "slideshow": {
     "slide_type": "slide"
    }
   },
   "source": [
    "## 从操作系统的进程开始"
   ]
  },
  {
   "cell_type": "markdown",
   "metadata": {
    "slideshow": {
     "slide_type": "slide"
    }
   },
   "source": [
    "### bash中的进程\n",
    "运行在OS之上的代码最终都是以进程的形态存在。UNIX操作系统世界中的进程，本质上是以fork-exec的方式创建。以bash为例，bash本身也是一个OS中运行的进程。当我们通过bash执行一条命令时，bash进程会fork自己然后exec通过特定例程查找的可执行文件bin。至此，一个新的进程被启动。当然，进程会在代码执行完成后退出。关于进程的知识可以自行学习专门的操作系统书籍。"
   ]
  },
  {
   "cell_type": "markdown",
   "metadata": {
    "slideshow": {
     "slide_type": "slide"
    }
   },
   "source": [
    "\n",
    "### Java进程\n",
    "\n",
    "回到Java世界，任何java代码最终都会编译成class文件，然后通过java命令个进行执行。"
   ]
  },
  {
   "cell_type": "markdown",
   "metadata": {
    "slideshow": {
     "slide_type": "fragment"
    }
   },
   "source": [
    "```java\n",
    "// HelloWorld.java\n",
    "public class HelloWorld {\n",
    "    public static void main(String[] args) {\n",
    "        System.out.print(\"Hello, World\");\n",
    "    }\n",
    "}\n",
    "```"
   ]
  },
  {
   "cell_type": "markdown",
   "metadata": {
    "slideshow": {
     "slide_type": "fragment"
    }
   },
   "source": [
    "上面简单的HelloWorld源代码经过javac编译后产生HelloWorld.class字节码文件。执行时，我们会通过如下命令启动这个HelloWorld程序：\n",
    "\n",
    "```java\n",
    "java HelloWorld\n",
    "```\n",
    "\n",
    "这个命令传入bash后，bash进程会fork自己，然后找到可执行文件java，启动java进程，`HelloWorld`作为参数传入。Java进程启动后，会去寻找需要执行的class文件。本例中即我们通过参数传入的`HelloWorld`。找到后，Java会执行对应class文件中的main方法，至此我们的代码即被执行。当然，HelloWorld这种简单的程序，短暂的执行后，Java进程会自动完成然后退出。\n",
    "\n",
    "Java进程如何启动，这是jvm标准规定的，本文不会涉及。"
   ]
  },
  {
   "cell_type": "markdown",
   "metadata": {
    "slideshow": {
     "slide_type": "fragment"
    }
   },
   "source": [
    "### 入口class\n",
    "\n",
    "Java如何定位入口class文件，这是由Java语言规范规定。不同的执行方式有不同的定位机制。\n",
    "\n",
    "最简单的方式是不带classpath参数的执行方式：\n",
    "```java\n",
    "java [options] class\n",
    "```\n",
    "java会直接只从class指定的字节码文件例的main方法。这种方式下，默认的classpath是包含当前目录'.'的，所以前面例子中的`java HelloWorld`其实等价于`java ./HelloWorld`。\n",
    "\n",
    "可以指定classpath进行执行：\n",
    "\n",
    "```java\n",
    "java [options] -cp CLASSPATH class\n",
    "```\n",
    "\n",
    "这种情况下，CLASSPATH是一个列表，可以包含目录，jar包，zip包。java会在这些路径中寻找class对应的字节码文件，找到后执行其main方法。\n",
    "\n",
    "还可以通过jar包的方式进行执行：\n",
    "\n",
    "```java\n",
    "java -jar file.jar\n",
    "```\n",
    "\n",
    "这种方式要求file.jar有特殊结构：\n",
    "- 必须包含一个manifest文件\n",
    "- manifest文件中包含行：Main-Class:classname\n",
    "- classname指定的class必须包含main方法\n",
    "\n"
   ]
  },
  {
   "cell_type": "markdown",
   "metadata": {
    "slideshow": {
     "slide_type": "slide"
    }
   },
   "source": [
    "## Java Servlet"
   ]
  },
  {
   "cell_type": "markdown",
   "metadata": {
    "slideshow": {
     "slide_type": "subslide"
    }
   },
   "source": [
    "### Servlet规范\n",
    "\n",
    "Java Servlet标准规范是Java Web技术栈的核心技术。Servlet最新版规范是4.0，目前处于Final Release阶段。详情参见[JSR 369](https://jcp.org/en/jsr/detail?id=369)。\n",
    "\n",
    "规范中对Servlet的描述为：\n",
    "\n",
    "> A servlet is a JavaTM technology-based Web component, managed by a container, that generates dynamic content.\n",
    "\n",
    "可知，servlet本质是web组件，运行于servlet container中，目的为生成动态内容。"
   ]
  },
  {
   "cell_type": "markdown",
   "metadata": {
    "slideshow": {
     "slide_type": "fragment"
    }
   },
   "source": [
    "#### Servlet接口\n",
    "[servlet接口](https://docs.oracle.com/javaee/6/api/javax/servlet/Servlet.html)定义了一个servlet的生命周期接口：init、service和destory。servlet container通过使用servlet的生命周期函数来管理servlet实例。"
   ]
  },
  {
   "cell_type": "markdown",
   "metadata": {
    "slideshow": {
     "slide_type": "fragment"
    }
   },
   "source": [
    "#### GenericServlet\n",
    "Servlet接口的一个重要实现是抽象类GenericServlet。GenericServlet的目的在于实现一个协议无关的Servlet基类，方便实现者扩展。同时在Servlet接口上增加了一个通用方法，比如getServletContext、getServletName、log等。"
   ]
  },
  {
   "cell_type": "markdown",
   "metadata": {
    "slideshow": {
     "slide_type": "fragment"
    }
   },
   "source": [
    "#### HttpServlet\n",
    "Servlet接口的另一个重要实现是HttpServlet，用来实现基于HTTP协议的Servlet。所有处理HTTP请求的Servlet都继承自HttpServlet。HttpServlet针对HTTP协议支持的method增加了对应的doXXX方法，包括：\n",
    "- doGet\n",
    "- doPost\n",
    "- doPut\n",
    "- doDelete\n",
    "- doTrace\n",
    "- doOptions\n",
    "同时HttpServlet针对HttpServletRequest和HttpServletResponse类型重写了service方法。\n",
    "\n",
    "[HttpServletRequest](https://docs.oracle.com/javaee/6/api/javax/servlet/http/HttpServletRequest.html)封装了HTTP协议请求，其API提供访问HTTP Request中的各种信息的方法。  \n",
    "[HttpServletResponse](https://docs.oracle.com/javaee/6/api/javax/servlet/http/HttpServletResponse.html)封装了HTTP协议响应，其API提供了写HTTP Response和获取Response信息的方法。"
   ]
  },
  {
   "cell_type": "markdown",
   "metadata": {
    "slideshow": {
     "slide_type": "subslide"
    }
   },
   "source": [
    "### Servlet Container\n",
    "\n",
    "规范对Servlet Container的描述为：\n",
    "\n",
    "> The servlet container is a part of a Web server or application server that provides the network services over which requests and responses are sent, decodes MIME-based requests, and formats MIME-based responses. A servlet container also contains and manages servlets through their lifecycle.\n",
    "\n",
    "可知，Servlet Container的主要职责有两个：\n",
    "- 接受MIME请求，返回MIME响应\n",
    "- 管理Servlets\n",
    "\n",
    "Servlet Container可以实现动态内容生成技术。当Servlet Container接受到MIME请求后，通过实例化不同的Servlet，运行Servlet内的代码得到动态内容，将动态内容编码成MIME响应返回。Java Web程序员通过实现不同的Servlet，配置不同的分发策略来实现具体动态内容生成策略。"
   ]
  },
  {
   "cell_type": "markdown",
   "metadata": {
    "slideshow": {
     "slide_type": "subslide"
    }
   },
   "source": [
    "### Web Server\n",
    "\n",
    "Servlet Container一般由web server来实现，完成对servlet技术的支持。\n",
    "web技术史上，比较知名的web server有：\n",
    "- Apache httpd\n",
    "- nginx\n",
    "这两者是静态资源服务器，即HTTP Server。运行在OS上，监听对应的tcp端口，网络连接进入时，接受请求并解码，然后对定位到资源进行编码再返回。HTTP Server不支持动态内容生成技术。\n",
    "\n",
    "应用服务器实现动态内容生成技术，技术上出现过cgi、fast-cgi、python脚本、perl脚本等。Java领域内的应用服务器，比较常用的如Tomcat、jetty即通过实现Servlet Container技术来支持动态内容生成。Tomcat本身也可以做HTTP Server。\n",
    "\n",
    "应用服务器和静态资源服务器是可以结合使用的。常见的做法是，静态资源服务器作为方向代理，对于静态资源直接返回，动态内容则转发给应用服务器进行处理。"
   ]
  },
  {
   "cell_type": "markdown",
   "metadata": {
    "slideshow": {
     "slide_type": "subslide"
    }
   },
   "source": [
    "### Tomcat\n",
    "\n",
    "Tomcat是一个Java实现的Servlet Container的实现，可以用作应用服务器，响应网络请求。\n",
    "\n",
    "Tomcat有几个重要的配置文件：\n",
    "- server.xml\n",
    "- context.xml\n",
    "- web.xml\n",
    "\n",
    "**server.xml**  \n",
    "Tomcat安装后的默认server.xml如下(忽略所有注视和部分元素以突出重点关注部分)："
   ]
  },
  {
   "cell_type": "markdown",
   "metadata": {
    "slideshow": {
     "slide_type": "fragment"
    }
   },
   "source": [
    "```xml\n",
    "<?xml version=\"1.0\" encoding=\"UTF-8\"?>\n",
    "<Server port=\"8005\" shutdown=\"SHUTDOWN\">\n",
    "  <Service name=\"Catalina\">\n",
    "    <Connector port=\"8080\" protocol=\"HTTP/1.1\"\n",
    "               connectionTimeout=\"20000\"\n",
    "               redirectPort=\"8443\" />\n",
    "    <Connector port=\"8443\" protocol=\"org.apache.coyote.http11.Http11AprProtocol\"\n",
    "               maxThreads=\"150\" SSLEnabled=\"true\" >\n",
    "        <UpgradeProtocol className=\"org.apache.coyote.http2.Http2Protocol\" />\n",
    "        <SSLHostConfig>...</SSLHostConfig>\n",
    "    </Connector>\n",
    "    <Connector port=\"8009\" protocol=\"AJP/1.3\" redirectPort=\"8443\" />\n",
    "    \n",
    "    <Engine name=\"Catalina\" defaultHost=\"localhost\">\n",
    "      <Realm className=\"org.apache.catalina.realm.LockOutRealm\">\n",
    "        <Realm className=\"org.apache.catalina.realm.UserDatabaseRealm\" resourceName=\"UserDatabase\"/>\n",
    "      </Realm>\n",
    "      <Host name=\"localhost\"  appBase=\"webapps\"\n",
    "            unpackWARs=\"true\" autoDeploy=\"true\">\n",
    "        <Valve className=\"org.apache.catalina.valves.AccessLogValve\" directory=\"logs\"\n",
    "               prefix=\"localhost_access_log\" suffix=\".txt\"\n",
    "               pattern=\"%h %l %u %t &quot;%r&quot; %s %b\" />\n",
    "      </Host>\n",
    "    </Engine>\n",
    "  </Service>\n",
    "</Server>\n",
    "```"
   ]
  },
  {
   "cell_type": "markdown",
   "metadata": {
    "slideshow": {
     "slide_type": "fragment"
    }
   },
   "source": [
    "Server表示一个Tomcat实例，可以包含多个Service。Service表示数个Connector和一个Engine的组合。Connector表示一个Service支持的网络协议。一个Service只能有个一个Engine，用来配置执行引擎类。Engine内可以配置多个虚拟HOST。HOST表示一个网络域名，可以配置多个Context元素。Context表示一个具体的应用。\n",
    "\n",
    "对于一个如下的一个完整URL：\n",
    "\n",
    "`protocol://host:port/context/path`\n",
    "\n",
    "protocol决定使用哪个Connector元素，host:port决定由哪个HOST元素处理，context决定由哪个Context元素对应的Application响应，path则作为参数传递给Application内部用来映射具体的Servlet。"
   ]
  },
  {
   "cell_type": "markdown",
   "metadata": {
    "slideshow": {
     "slide_type": "fragment"
    }
   },
   "source": [
    "Tomcat安装实例包含默认的context.xml和web.xml。一个Web Application可以配置自己的web.xml和context.xml。Tomcat会管理所有部署的应用的web.xml和context.xml。\n",
    "\n",
    "**web.xml**  \n",
    "Tomcat内默认的web.xml如下："
   ]
  },
  {
   "cell_type": "markdown",
   "metadata": {
    "slideshow": {
     "slide_type": "fragment"
    }
   },
   "source": [
    "```xml\n",
    "<?xml version=\"1.0\" encoding=\"UTF-8\"?>\n",
    "<web-app xmlns=\"http://xmlns.jcp.org/xml/ns/javaee\"\n",
    "  xmlns:xsi=\"http://www.w3.org/2001/XMLSchema-instance\"\n",
    "  xsi:schemaLocation=\"http://xmlns.jcp.org/xml/ns/javaee\n",
    "                      http://xmlns.jcp.org/xml/ns/javaee/web-app_4_0.xsd\"\n",
    "  version=\"4.0\">\n",
    "  <!-- ================== Built In Servlet Definitions ==================== -->\n",
    "    <servlet>\n",
    "        <servlet-name>default</servlet-name>\n",
    "        <servlet-class>org.apache.catalina.servlets.DefaultServlet</servlet-class>\n",
    "        <init-param>\n",
    "            <param-name>debug</param-name>\n",
    "            <param-value>0</param-value>\n",
    "        </init-param>\n",
    "        <init-param>\n",
    "            <param-name>listings</param-name>\n",
    "            <param-value>false</param-value>\n",
    "        </init-param>\n",
    "        <load-on-startup>1</load-on-startup>\n",
    "    </servlet>\n",
    "    <servlet>\n",
    "        <servlet-name>jsp</servlet-name>\n",
    "        <servlet-class>org.apache.jasper.servlet.JspServlet</servlet-class>\n",
    "        <init-param>\n",
    "            <param-name>fork</param-name>\n",
    "            <param-value>false</param-value>\n",
    "        </init-param>\n",
    "        <init-param>\n",
    "            <param-name>xpoweredBy</param-name>\n",
    "            <param-value>false</param-value>\n",
    "        </init-param>\n",
    "        <load-on-startup>3</load-on-startup>\n",
    "    </servlet>\n",
    "\n",
    "  <!-- ==================== Built In Filter Definitions =================== -->\n",
    "  <!-- ==================== Built In Filter Mappings ====================== -->\n",
    "  <!-- ==================== Default Session Configuration ================= -->\n",
    "  <!-- ==================== Default MIME Type Mappings =================== -->\n",
    "  <!-- ==================== Default Welcome File List ===================== -->\n",
    "    <welcome-file-list>\n",
    "        <welcome-file>index.html</welcome-file>\n",
    "    </welcome-file-list>\n",
    "</web-app>\n",
    "```"
   ]
  },
  {
   "cell_type": "markdown",
   "metadata": {
    "slideshow": {
     "slide_type": "fragment"
    }
   },
   "source": [
    "web.xml用来配置应用。servlet元素指定servlet的名字、实现类和初始化参数。filter元素配置filter的名字、实现类和初始化参数。filter-mapping用来绑定filter到url匹配规则上。mime-mapping配置静态资源Content-Type的自动配置策略。welcome-file-list元素配置默认首页。"
   ]
  },
  {
   "cell_type": "markdown",
   "metadata": {
    "slideshow": {
     "slide_type": "fragment"
    }
   },
   "source": [
    "**context.xml**  \n",
    "comtext.xml用来配置应用的context。应为server.xml文件在Tomcat启动时读取，如果context配置放在server.xml中，有application修改配置时需要重启tomcat，所以推荐做法是使用应用内的context.xml进行配置，可以使得context配置生效的同时避免tomcat重启。"
   ]
  },
  {
   "cell_type": "markdown",
   "metadata": {
    "slideshow": {
     "slide_type": "slide"
    }
   },
   "source": [
    "# 一个spring-boot应用的构建与执行\n",
    "\n",
    "参考[rest-service](https://spring.io/guides/gs/rest-service/)创建一个简单的spring-boot应用。"
   ]
  },
  {
   "cell_type": "markdown",
   "metadata": {
    "slideshow": {
     "slide_type": "subslide"
    }
   },
   "source": [
    "## 使用gradle构建\n",
    "\n",
    "在项目的根目录下，执行构建命令：\n",
    "\n",
    "```bash\n",
    "./gradlew build\n",
    "```\n",
    "\n",
    "构建结果是一个位于`build/libs/gs-rest-service-0.1.0`的jar包。\n",
    "\n",
    "Q：**构建产出的jar包包含哪些内容呢？**\n",
    "通过解压工具解压这个jar包后，我们看到`build/libs/gs-rest-service-0.1.0.jar`的内部结构如下（忽略依赖的lib的具体信息和spring-boot框架的一些具体class文件信息以突出重点）："
   ]
  },
  {
   "cell_type": "markdown",
   "metadata": {
    "slideshow": {
     "slide_type": "subslide"
    }
   },
   "source": [
    "```bash\n",
    "build/libs/gs-rest-service-0.1.0\n",
    "├── BOOT-INF\n",
    "│   ├── classes\n",
    "│   │   └── hello\n",
    "│   │       ├── Application.class\n",
    "│   │       ├── Greeting.class\n",
    "│   │       └── GreetingController.class\n",
    "│   └── lib\n",
    "├── META-INF\n",
    "│   └── MANIFEST.MF\n",
    "└── org\n",
    "    └── springframework\n",
    "        └── boot\n",
    "            └── loader\n",
    "                ├── ExecutableArchiveLauncher.class\n",
    "                ├── LaunchedURLClassLoader.class\n",
    "                ├── Launcher.class\n",
    "                ├── JarLauncher.class                \n",
    "                ├── WarLauncher.class\n",
    "                ├── PropertiesLauncher.class             \n",
    "```"
   ]
  },
  {
   "cell_type": "markdown",
   "metadata": {
    "slideshow": {
     "slide_type": "subslide"
    }
   },
   "source": [
    "\n",
    "参见[executable jar format](https://docs.spring.io/spring-boot/docs/current/reference/html/executable-jar.html)关于这个结构的解释。  \n",
    "值得重点关注的是：\n",
    "- 存放应用代码编译结果的`BOOT-INF/classes`目录\n",
    "- 存放应用代码依赖jar包的`BOOT-INF/lib`目录\n",
    "- 标准Jar文件格式要求的`META-INF/MANIFEST.MF`文件\n",
    "- 启动类`org.springframework.boot.loader.JarLauncher.class`"
   ]
  },
  {
   "cell_type": "markdown",
   "metadata": {
    "slideshow": {
     "slide_type": "subslide"
    }
   },
   "source": [
    "## 深入构建过程\n",
    "\n",
    "上一节展示了一个典型的spring boot应用构建结果的结构。\n",
    "\n",
    "Q：**这个构建结果的内部结构是如何来的？**\n",
    "\n",
    "TBD"
   ]
  },
  {
   "cell_type": "markdown",
   "metadata": {
    "slideshow": {
     "slide_type": "subslide"
    }
   },
   "source": [
    "## 执行构建结果\n",
    "\n",
    "gradle的构建结果最终使用前面所讲的jar的方式进行执行：\n",
    "```sh\n",
    "java -jar build/libs/gs-rest-service-0.1.0.jar\n",
    "```"
   ]
  },
  {
   "cell_type": "markdown",
   "metadata": {
    "slideshow": {
     "slide_type": "subslide"
    }
   },
   "source": [
    "查看MANIFEST.MF的内容如下："
   ]
  },
  {
   "cell_type": "markdown",
   "metadata": {
    "slideshow": {
     "slide_type": "fragment"
    }
   },
   "source": [
    "```\n",
    "Manifest-Version: 1.0\n",
    "Main-Class: org.springframework.boot.loader.JarLauncher\n",
    "Start-Class: hello.Application\n",
    "```"
   ]
  },
  {
   "cell_type": "markdown",
   "metadata": {
    "slideshow": {
     "slide_type": "fragment"
    }
   },
   "source": [
    "可知，真正的执行入口是spring-boot-loader里的JarLauncher.class。而应用代码是以Start-Class参数存在于manifest文件中。"
   ]
  },
  {
   "cell_type": "markdown",
   "metadata": {
    "slideshow": {
     "slide_type": "slide"
    }
   },
   "source": [
    "# 隐藏的入口点：spring-boot-loader\n",
    "\n",
    "上一节所讲的构建结构的特殊jar文件格式能够执行，主要是spring-boot-loader实现的。因而，我们需要简单了解下spring-boot-loader。"
   ]
  },
  {
   "cell_type": "markdown",
   "metadata": {
    "slideshow": {
     "slide_type": "subslide"
    }
   },
   "source": [
    "## 标准jar文件\n",
    "\n",
    "java的标准归档文件格式即jar文件格式，基于zip文件格式创建。要求必须包含一个META-INF目录。除META-INF目录之外都是java packages结构。\n",
    "\n",
    "同时，java标准库中提供一组java代码操作jar包的API，包括`java.util.jar` Package和`java.net.JarURLConnection` Class。`java.util.jar`包提供处理jar文件所需的各种类，`java.net.JarURLConnection` 则用来表示jar URL的封装。jar URL是对标准URL的扩展，其语法为`jar:<url>!/{entry}`，url指向完整的jar文件，entry则表示jar包内具体的文件或目录。\n",
    "\n",
    "此外，java还提供了jar命令和java命令的-jar选项来通过命令的方式使用jar文件。\n",
    "\n",
    "java标准没有提供使用内嵌jar的方法。jar URL里的entry不能使用另一个jar URL，jar包内内嵌jar内的文件是不能在被不解压的情况下使用。"
   ]
  },
  {
   "cell_type": "markdown",
   "metadata": {
    "slideshow": {
     "slide_type": "subslide"
    }
   },
   "source": [
    "## 兼容Spring Boot Loader的jar文件\n",
    "\n",
    "因为上一节讲述的原因，spring boot使用另外一种方式组织jar文件以支持内嵌jar的用法。\n",
    "\n",
    "spring-boot-loader使用org.springframework.boot.loader.jar.JarFile扩展了标准库中的java.util.jar.JarFile类，实现对标准jar文件和Spring Boot Loader-compatible jar文件的支持。\n",
    "\n",
    "兼容Spring Boot Loader的jar文件内，会存在一个org.springframework.boot.loader的包。这个包支持不同的执行方式。\n",
    "\n",
    "当以jar的方式运行时等价于如下命令：\n",
    "\n",
    "```bash\n",
    "java org.springframework.boot.loader.JarLauncher\n",
    "```\n",
    "\n",
    "此外，还支持以war的方式执行。"
   ]
  },
  {
   "cell_type": "markdown",
   "metadata": {
    "slideshow": {
     "slide_type": "slide"
    }
   },
   "source": [
    "## Spring Boot Loader的启动过程\n",
    "\n",
    "JarLauncher的主要代码如下所示："
   ]
  },
  {
   "cell_type": "markdown",
   "metadata": {
    "slideshow": {
     "slide_type": "fragment"
    }
   },
   "source": [
    "```java\n",
    "public class JarLauncher extends ExecutableArchiveLauncher {\n",
    "\n",
    "\tstatic final String BOOT_INF_CLASSES = \"BOOT-INF/classes/\";\n",
    "\tstatic final String BOOT_INF_LIB = \"BOOT-INF/lib/\";\n",
    "\n",
    "\tpublic JarLauncher() {}\n",
    "\n",
    "\tprotected JarLauncher(Archive archive) {\n",
    "\t\tsuper(archive);\n",
    "\t}\n",
    "\n",
    "\tpublic static void main(String[] args) throws Exception {\n",
    "\t\tnew JarLauncher().launch(args);\n",
    "\t}\n",
    "}\n",
    "```"
   ]
  },
  {
   "cell_type": "markdown",
   "metadata": {
    "slideshow": {
     "slide_type": "subslide"
    }
   },
   "source": [
    "JarLauncher的launch方法来自基类Launcher，其实现如下："
   ]
  },
  {
   "cell_type": "markdown",
   "metadata": {
    "slideshow": {
     "slide_type": "fragment"
    }
   },
   "source": [
    "```java\n",
    "    protected void launch(String[] args) throws Exception {\n",
    "\t\tJarFile.registerUrlProtocolHandler();\n",
    "\t\tClassLoader classLoader = createClassLoader(getClassPathArchives());\n",
    "\t\tlaunch(args, getMainClass(), classLoader);\n",
    "\t}\n",
    "```"
   ]
  },
  {
   "cell_type": "markdown",
   "metadata": {
    "slideshow": {
     "slide_type": "subslide"
    }
   },
   "source": [
    "getMainClass来自父类ExecutableArchiveLauncher，其实现如下："
   ]
  },
  {
   "cell_type": "markdown",
   "metadata": {
    "slideshow": {
     "slide_type": "fragment"
    }
   },
   "source": [
    "```java\n",
    "    protected String getMainClass() throws Exception {\n",
    "\t\tManifest manifest = this.archive.getManifest();\n",
    "\t\tString mainClass = null;\n",
    "\t\tif (manifest != null) {\n",
    "\t\t\tmainClass = manifest.getMainAttributes().getValue(\"Start-Class\");\n",
    "\t\t}\n",
    "\t\tif (mainClass == null) {\n",
    "\t\t\tthrow new IllegalStateException(\n",
    "\t\t\t\t\t\"No 'Start-Class' manifest entry specified in \" + this);\n",
    "\t\t}\n",
    "\t\treturn mainClass;\n",
    "\t}\n",
    "```"
   ]
  },
  {
   "cell_type": "markdown",
   "metadata": {
    "slideshow": {
     "slide_type": "fragment"
    }
   },
   "source": [
    "通过这样的方式，JarLauncher最终实现在当前线程中调用manifest文件中Start-Class指向的类的main方法。"
   ]
  },
  {
   "cell_type": "markdown",
   "metadata": {
    "slideshow": {
     "slide_type": "slide"
    }
   },
   "source": [
    "# Application启动\n",
    "\n",
    "当Spring Boot Loader完成启动后，代码控制权则完成了从Spring Boot Loader到应用代码的转移。一个典型的Application的入口代码如下："
   ]
  },
  {
   "cell_type": "markdown",
   "metadata": {
    "slideshow": {
     "slide_type": "fragment"
    }
   },
   "source": [
    "```java\n",
    "@SpringBootApplication\n",
    "public class Application {\n",
    "    public static void main(String[] args) {\n",
    "        SpringApplication.run(Application.class, args);\n",
    "    }\n",
    "}\n",
    "```"
   ]
  },
  {
   "cell_type": "markdown",
   "metadata": {
    "slideshow": {
     "slide_type": "fragment"
    }
   },
   "source": [
    " SpringApplication.run通过调用如下代码将代码控制权交给spring-boot："
   ]
  },
  {
   "cell_type": "markdown",
   "metadata": {
    "slideshow": {
     "slide_type": "fragment"
    }
   },
   "source": [
    "```java\n",
    "public static ConfigurableApplicationContext run(Class<?>[] primarySources,\n",
    "\t\tString[] args) {\n",
    "\treturn new SpringApplication(primarySources).run(args);\n",
    "}\n",
    "```"
   ]
  },
  {
   "cell_type": "markdown",
   "metadata": {
    "slideshow": {
     "slide_type": "fragment"
    }
   },
   "source": [
    "`new SpringApplication(primarySources).run(args)`的调用结果是创建ApplicationContext的实例。ApplicationContext的实例化过程即是应用的启动过程。"
   ]
  },
  {
   "cell_type": "markdown",
   "metadata": {
    "slideshow": {
     "slide_type": "fragment"
    }
   },
   "source": [
    "启动过程调用栈如下："
   ]
  },
  {
   "cell_type": "markdown",
   "metadata": {
    "slideshow": {
     "slide_type": "fragment"
    }
   },
   "source": [
    "```\n",
    "run:349, SpringApplication (org.springframework.boot)\n",
    "run:1255, SpringApplication (org.springframework.boot)\n",
    "run:1243, SpringApplication (org.springframework.boot)\n",
    "main:10, Application (hello)\n",
    "```"
   ]
  },
  {
   "cell_type": "markdown",
   "metadata": {
    "slideshow": {
     "slide_type": "subslide"
    }
   },
   "source": [
    "## WebApplicationType\n",
    "\n",
    "Spring既可以用来开发Java web application，也可以用来开发其他应用程序。\n",
    "\n",
    "Q：**Spring如何确定是否启动web server？**\n",
    "\n",
    "实例化SpringApplication的过程中，会通过分析当前classpath选择特定的WebApplicationType。目前支持的WebApplicationType包括SERVLET，REACTIVE和NONE。\n",
    "\n",
    "当Application以SERVLET类型启动时，会启动内嵌的servlet web server；以REACTIVE类型启动时，会启动内嵌的reactive web server；以NONE类型启动时，不启动内嵌web server。"
   ]
  },
  {
   "cell_type": "markdown",
   "metadata": {
    "slideshow": {
     "slide_type": "subslide"
    }
   },
   "source": [
    "## ApplicationContext\n",
    "\n",
    "spring boot出现的一个重要目的即是简化应用开发的配置过程。当前流行的方式是通过注解的方式完成原本xml配置文件的功能。\n",
    "\n",
    "Q：**ApplicationContext只是一个接口，如何创建具体实现类的实例？**\n",
    "\n",
    "spring中，ApplicationContext抽象了IoC Container。实例化SpringApplication的过程中，一个重要的步骤是完成ApplicationContext的实例化。一个spring-boot实现的web app应用WebApplicationType是SERVLET类型，使用注解方式配置应用时，默认选择`org.springframework.boot.web.servlet.context.AnnotationConfigServletWebServerApplicationContext`类作为ApplicationContext的实现。\n",
    "\n",
    "实例化过程的调用栈如下（忽略了jdk内部关于反射机制的调用栈）："
   ]
  },
  {
   "cell_type": "markdown",
   "metadata": {
    "slideshow": {
     "slide_type": "fragment"
    }
   },
   "source": [
    "```\n",
    "<init>:75, AnnotationConfigServletWebServerApplicationContext (org.springframework.boot.web.servlet.context)\n",
    "...\n",
    "newInstance:488, Constructor (java.lang.reflect)\n",
    "instantiateClass:170, BeanUtils (org.springframework.beans)\n",
    "instantiateClass:124, BeanUtils (org.springframework.beans)\n",
    "createApplicationContext:595, SpringApplication (org.springframework.boot)\n",
    "run:321, SpringApplication (org.springframework.boot)\n",
    "run:1255, SpringApplication (org.springframework.boot)\n",
    "run:1243, SpringApplication (org.springframework.boot)\n",
    "main:10, Application (hello)\n",
    "```"
   ]
  },
  {
   "cell_type": "markdown",
   "metadata": {
    "slideshow": {
     "slide_type": "fragment"
    }
   },
   "source": [
    "`AnnotationConfigServletWebServerApplicationContext`实现了`AnnotationConfigRegistry`，提供了通过注解注册bean定义的能力。"
   ]
  },
  {
   "cell_type": "markdown",
   "metadata": {
    "slideshow": {
     "slide_type": "slide"
    }
   },
   "source": [
    "# spring-boot-starter\n",
    "\n",
    "Q：**spring-boot-starter的作用是什么？**  \n",
    "\n",
    "[spring-boot-starters](https://github.com/spring-projects/spring-boot/tree/master/spring-boot-project/spring-boot-starters)是dependency descriptors集合，用来简化构建技术栈。详情参见[using-boot-starter](https://docs.spring.io/spring-boot/docs/current/reference/htmlsingle/#using-boot-starter)。\n",
    "\n",
    "servlet技术栈的应用使用spring-boot-starter-web，内部包含了一个内嵌的web server。默认使用tomcat。"
   ]
  },
  {
   "cell_type": "markdown",
   "metadata": {
    "slideshow": {
     "slide_type": "subslide"
    }
   },
   "source": [
    "### WebServer\n",
    "\n",
    "Q：**spring-boot和web server之间的关系是什么？**  \n",
    "\n",
    "spring boot使用[WebServer](https://docs.spring.io/spring-boot/docs/current/api/org/springframework/boot/web/server/WebServer.html)接口来抽象web server。\n",
    "\n",
    "使用[TomcatWebServer](https://docs.spring.io/spring-boot/docs/current/api/org/springframework/boot/web/embedded/tomcat/TomcatWebServer.html)实现类适配Tomcat。底层使用`org.apache.catalina.startup.Tomcat`作为真实运行的web server。\n",
    "\n",
    "参见[howto-use-another-web-server](https://docs.spring.io/spring-boot/docs/current/reference/html/howto-embedded-web-servers.html#howto-use-another-web-server)提供的方法更换web server实现。\n",
    "\n",
    "如前所述，Spring Boot Application启动时，会根据classpath推断WebApplicationType。当推断WebApplicationType为SERVLET时，需要启动一个内嵌的应用服务器。spring boot默认使用Tomcat作为应用服务器。\n",
    "\n",
    "TomcatServletWebServerFactory创建Tomcat web server实例没有调用start方法前不能用来响应请求。"
   ]
  },
  {
   "cell_type": "markdown",
   "metadata": {
    "slideshow": {
     "slide_type": "subslide"
    }
   },
   "source": [
    "Q：**spring boot如何创建web server实例？**\n",
    "\n",
    "Application启动过程中默认会创建`AnnotationConfigServletWebServerApplicationContext`实例作为`ApplicationContext`。`AnnotationConfigServletWebServerApplicationContext`继承自`ServletWebServerApplicationContext`，支持Serverlet Container的能力。\n",
    "\n",
    "[boot-features-embedded-container-application-context](https://docs.spring.io/spring-boot/docs/current/reference/htmlsingle/#boot-features-embedded-container-application-context)描述的`ServletWebServerApplicationContext`启动过程：\n",
    "\n",
    "> Under the hood, Spring Boot uses a different type of ApplicationContext for embedded servlet container support. The ServletWebServerApplicationContext is a special type of WebApplicationContext that bootstraps itself by searching for a single ServletWebServerFactory bean.\n",
    "\n",
    "在Application启动过程中，`ServletWebServerApplicationContext`上的refresh方法会被调用，过程中会调用createWebServer方法。createWebServer方法执行时会通过查找bean的方式获得`ServletWebServerFactory`实例，然后调用`ServletWebServerFactory`实例的getWebServer方法获得web server的实例。\n",
    "\n",
    "默认配置下，`TomcatServletWebServerFactory`被用来创建Tomcat web server实例。\n",
    "\n",
    "spring boot创建web server实例的过程是一个抽象工厂模式。\n",
    "\n",
    "`ServletWebServerFactory`是抽象工厂类，负责`WebServer`的创建工作。\n",
    "`TomcatServletWebServerFactory`是具体工厂类，实现`TomcatWebServer`的创建工作。`JettyServletWebServerFactory`是具体工厂类，实现`JettyWebServer`的创建工作。"
   ]
  },
  {
   "cell_type": "markdown",
   "metadata": {
    "slideshow": {
     "slide_type": "subslide"
    }
   },
   "source": [
    "Q：**TomcatServletWebServerFactory是如何实例化的？**  \n",
    "\n",
    "`TomcatServletWebServerFactory`本身也是作为bean的方式被创建的。`ServletWebServerApplicationContext`调用createWebServer方法时，会调用getWebServerFactory方法获得`TomcatServletWebServerFactory`实例。"
   ]
  },
  {
   "cell_type": "markdown",
   "metadata": {
    "slideshow": {
     "slide_type": "fragment"
    }
   },
   "source": [
    "```\n",
    "getWebServerFactory:214, ServletWebServerApplicationContext (org.springframework.boot.web.servlet.context)\n",
    "createWebServer:178, ServletWebServerApplicationContext (org.springframework.boot.web.servlet.context)\n",
    "onRefresh:152, ServletWebServerApplicationContext (org.springframework.boot.web.servlet.context)\n",
    "refresh:544, AbstractApplicationContext (org.springframework.context.support)\n",
    "refresh:140, ServletWebServerApplicationContext (org.springframework.boot.web.servlet.context)\n",
    "refresh:759, SpringApplication (org.springframework.boot)\n",
    "refreshContext:395, SpringApplication (org.springframework.boot)\n",
    "run:327, SpringApplication (org.springframework.boot)\n",
    "run:1255, SpringApplication (org.springframework.boot)\n",
    "run:1243, SpringApplication (org.springframework.boot)\n",
    "main:10, Application (hello)\n",
    "```"
   ]
  },
  {
   "cell_type": "markdown",
   "metadata": {
    "slideshow": {
     "slide_type": "fragment"
    }
   },
   "source": [
    "最终是通过`getBeanFactory().getBean(\"tomcatServletWebServerFactory\", ServletWebServerFactory.class)`方式获取到`TomcatServletWebServerFactory`实例。"
   ]
  },
  {
   "cell_type": "markdown",
   "metadata": {
    "slideshow": {
     "slide_type": "subslide"
    }
   },
   "source": [
    "Q：**TomcatWebServer如何启动？**  \n",
    "\n",
    "当WebServer实例创建后还处于未启动状态，还需调用start方法才完成web server的启动。这步操作发生在`ServerWebServerApplicationContext`调用startWebServer方法时发生。"
   ]
  },
  {
   "cell_type": "markdown",
   "metadata": {
    "slideshow": {
     "slide_type": "fragment"
    }
   },
   "source": [
    "```\n",
    "start:193, TomcatWebServer (org.springframework.boot.web.embedded.tomcat)\n",
    "startWebServer:300, ServletWebServerApplicationContext (org.springframework.boot.web.servlet.context)\n",
    "finishRefresh:162, ServletWebServerApplicationContext (org.springframework.boot.web.servlet.context)\n",
    "refresh:553, AbstractApplicationContext (org.springframework.context.support)\n",
    "refresh:140, ServletWebServerApplicationContext (org.springframework.boot.web.servlet.context)\n",
    "refresh:759, SpringApplication (org.springframework.boot)\n",
    "refreshContext:395, SpringApplication (org.springframework.boot)\n",
    "run:327, SpringApplication (org.springframework.boot)\n",
    "run:1255, SpringApplication (org.springframework.boot)\n",
    "run:1243, SpringApplication (org.springframework.boot)\n",
    "main:10, Application (hello)\n",
    "```"
   ]
  },
  {
   "cell_type": "markdown",
   "metadata": {},
   "source": [
    "# spring bean container\n",
    "\n",
    "Q：**spring启动之后的职责是什么？**\n",
    "\n",
    "spring在完成bootstrap后，充当一个实现了DI功能的IoC Container角色。spring的IoC Container的核心职责则是管理各个java bean。"
   ]
  },
  {
   "cell_type": "markdown",
   "metadata": {},
   "source": [
    "## bootstrap过程中的注解"
   ]
  },
  {
   "cell_type": "markdown",
   "metadata": {},
   "source": [
    "### @SpringBootApplication\n",
    "\n",
    "@SpringBootApplication注解是@Configuration、@EnableAutoConfiguration、@ComponentScan三个注解的快捷方式。@SpringBootApplication和@EnableAutoConfiguration注解由spring-boot定义。@Configuration、@ComponentScan则由spring-context定义。"
   ]
  },
  {
   "cell_type": "markdown",
   "metadata": {},
   "source": [
    "### @EnableAutoConfiguration\n",
    "\n",
    "[EnableAutoConfiguration](https://docs.spring.io/spring-boot/docs/current/api/org/springframework/boot/autoconfigure/EnableAutoConfiguration.html)的javadoc讲解了这个注解的作用。\n",
    "\n",
    "核心要点如下：\n",
    "- 根据classpath和自定义bean猜测和自动配置Spring Application Context\n",
    "- 最大可能自动化配置，但是用户自定义配置优先\n",
    "- 配置了`@EnableAutoConfiguration`的类所在包默认是扫描根节点\n",
    "- 推荐在项目root package上使用\n",
    "- 使用`SpringFactoriesLoader`机制发现Spring Configuration Beans"
   ]
  },
  {
   "cell_type": "markdown",
   "metadata": {},
   "source": [
    "### @Configuration\n",
    "\n",
    "[Configuration](https://docs.spring.io/spring-framework/docs/current/javadoc-api/org/springframework/context/annotation/Configuration.html)的javadoc讲解了这个注解的作用。\n",
    "\n",
    "核心要点如下：\n",
    "\n",
    "- 注解包含了bean定义的类\n",
    "- 三种bootstrap方法：\n",
    "    - AnnotationConfigApplicationContext的方法\n",
    "    - Spring <beans> XML\n",
    "    - component scanning方式（xml或注解的方式）\n",
    "- 两种使用环境变量的方法：\n",
    "    - 使用注入的`Environmen`的API\n",
    "    - 使用@Value注解直接注入变量\n",
    "- 四种组装方式\n",
    "    - @Import的方式\n",
    "    - @ImportResource的方式\n",
    "    - @Profile的方式（常用来区分不同运行环境的配置）\n",
    "    - 嵌套@Configuration的方式\n",
    "- 支持lazy initialization"
   ]
  },
  {
   "cell_type": "markdown",
   "metadata": {},
   "source": [
    "### @ComponentScan\n",
    "\n",
    "[ComponentScan](https://docs.spring.io/spring-framework/docs/current/javadoc-api/org/springframework/context/annotation/ComponentScan.html)的javadoc讲解了这个注解的使用。没什么说的。"
   ]
  },
  {
   "cell_type": "markdown",
   "metadata": {},
   "source": [
    "## config过程的注解处理器\n",
    "\n",
    "Q：`bootstrap过程中的注解的作用是什么？`\n",
    "\n",
    "注解一般是需要搭配注解处理器进行使用。没有注解处理器的注解只是没有意义的字符串。bootstrap过程中的注解是用来声明spring IoC Container的配置。"
   ]
  },
  {
   "cell_type": "markdown",
   "metadata": {},
   "source": [
    "### 定义Annotation Config Processors\n",
    "\n",
    "Q：**Spring如何收集配置？**  \n",
    "\n",
    "bootstrap过程中的注解声明了各种配置信息，同时spring会自动推断大部分配置。\n",
    "\n",
    "spring会在`ApplicationContext`实例化完成后，注册Annotation Config Processors作为收集配置的处理过程。具体的收集过程则由对应的Processors的特定方法完成。\n",
    "\n",
    "Annotation Config Processors的注册过程的调用栈（忽略jdk反射相关的调用栈）："
   ]
  },
  {
   "cell_type": "markdown",
   "metadata": {},
   "source": [
    "```\n",
    "registerAnnotationConfigProcessors:212, AnnotationConfigUtils (org.springframework.context.annotation)\n",
    "registerAnnotationConfigProcessors:135, AnnotationConfigUtils (org.springframework.context.annotation)\n",
    "<init>:87, AnnotatedBeanDefinitionReader (org.springframework.context.annotation)\n",
    "<init>:70, AnnotatedBeanDefinitionReader (org.springframework.context.annotation)\n",
    "<init>:73, AnnotationConfigServletWebServerApplicationContext (org.springframework.boot.web.servlet.context)\n",
    "\n",
    "... jdk反射相关的调用栈 ...\n",
    "\n",
    "instantiateClass:170, BeanUtils (org.springframework.beans)\n",
    "instantiateClass:124, BeanUtils (org.springframework.beans)\n",
    "createApplicationContext:595, SpringApplication (org.springframework.boot)\n",
    "run:321, SpringApplication (org.springframework.boot)\n",
    "run:1255, SpringApplication (org.springframework.boot)\n",
    "run:1243, SpringApplication (org.springframework.boot)\n",
    "main:10, Application (hello)\n",
    "```"
   ]
  },
  {
   "cell_type": "markdown",
   "metadata": {},
   "source": [
    "可知，启动过程实例化`AnnotationConfigServletWebServerApplicationContext`时会注册注解处理器，这个过程通过`AnnotationConfigUtils.registerAnnotationConfigProcessors`完成。"
   ]
  },
  {
   "cell_type": "markdown",
   "metadata": {},
   "source": [
    "```java\n",
    "public static Set<BeanDefinitionHolder> registerAnnotationConfigProcessors(\n",
    "\t\t\tBeanDefinitionRegistry registry, @Nullable Object source) {\n",
    "\n",
    "        // ... something ...\n",
    "        \n",
    "\t\tSet<BeanDefinitionHolder> beanDefs = new LinkedHashSet<>(4);\n",
    "\n",
    "\t\tif (!registry.containsBeanDefinition(CONFIGURATION_ANNOTATION_PROCESSOR_BEAN_NAME)) {\n",
    "\t\t\tRootBeanDefinition def = new RootBeanDefinition(ConfigurationClassPostProcessor.class);\n",
    "\t\t\tdef.setSource(source);\n",
    "\t\t\tbeanDefs.add(registerPostProcessor(registry, def, CONFIGURATION_ANNOTATION_PROCESSOR_BEAN_NAME));\n",
    "\t\t}\n",
    "\n",
    "\t\tif (!registry.containsBeanDefinition(AUTOWIRED_ANNOTATION_PROCESSOR_BEAN_NAME)) {\n",
    "\t\t\tRootBeanDefinition def = new RootBeanDefinition(AutowiredAnnotationBeanPostProcessor.class);\n",
    "\t\t\tdef.setSource(source);\n",
    "\t\t\tbeanDefs.add(registerPostProcessor(registry, def, AUTOWIRED_ANNOTATION_PROCESSOR_BEAN_NAME));\n",
    "\t\t}\n",
    "\n",
    "\t\tif (!registry.containsBeanDefinition(REQUIRED_ANNOTATION_PROCESSOR_BEAN_NAME)) {\n",
    "\t\t\tRootBeanDefinition def = new RootBeanDefinition(RequiredAnnotationBeanPostProcessor.class);\n",
    "\t\t\tdef.setSource(source);\n",
    "\t\t\tbeanDefs.add(registerPostProcessor(registry, def, REQUIRED_ANNOTATION_PROCESSOR_BEAN_NAME));\n",
    "\t\t}\n",
    "\n",
    "\t\t// Check for JSR-250 support, and if present add the CommonAnnotationBeanPostProcessor.\n",
    "        // ...\n",
    "\n",
    "\t\t// Check for JPA support, and if present add the PersistenceAnnotationBeanPostProcessor.\n",
    "        // ...\n",
    "\n",
    "\t\tif (!registry.containsBeanDefinition(EVENT_LISTENER_PROCESSOR_BEAN_NAME)) {\n",
    "\t\t\tRootBeanDefinition def = new RootBeanDefinition(EventListenerMethodProcessor.class);\n",
    "\t\t\tdef.setSource(source);\n",
    "\t\t\tbeanDefs.add(registerPostProcessor(registry, def, EVENT_LISTENER_PROCESSOR_BEAN_NAME));\n",
    "\t\t}\n",
    "\t\tif (!registry.containsBeanDefinition(EVENT_LISTENER_FACTORY_BEAN_NAME)) {\n",
    "\t\t\tRootBeanDefinition def = new RootBeanDefinition(DefaultEventListenerFactory.class);\n",
    "\t\t\tdef.setSource(source);\n",
    "\t\t\tbeanDefs.add(registerPostProcessor(registry, def, EVENT_LISTENER_FACTORY_BEAN_NAME));\n",
    "\t\t}\n",
    "\n",
    "\t\treturn beanDefs;\n",
    "\t}\n",
    "```"
   ]
  },
  {
   "cell_type": "markdown",
   "metadata": {},
   "source": [
    "上述`AnnotationConfigUtils.registerAnnotationConfigProcessors`实现代码可知，Spring会依次注册：\n",
    "- ConfigurationClassPostProcessor: 处理bootstrap过程中的`@Configuration`\n",
    "- AutowiredAnnotationBeanPostProcessor: 处理`@Autowired`\n",
    "- RequiredAnnotationBeanPostProcessor: 处理`@Required`\n",
    "- EventListenerMethodProcessor: 处理`ApplicationListener`方法\n",
    "- DefaultEventListenerFactory: 处理`@EventListener`注解\n",
    "\n",
    "其中`ConfigurationClassPostProcessor`则是处理配置类注解的"
   ]
  },
  {
   "cell_type": "markdown",
   "metadata": {},
   "source": [
    "### Configuration Class Post Processor\n",
    "\n",
    "Q：**Spring如何处理@Configuration注解**  \n",
    "\n",
    "定义并注册`ConfigurationClassPostProcessor`后，spring会调用`ConfigurationClassPostProcessor.processConfigBeanDefinitions`处理`@Configuration`由。\n",
    "\n",
    "注解处理器的调用栈："
   ]
  },
  {
   "cell_type": "markdown",
   "metadata": {},
   "source": [
    "```\n",
    "processConfigBeanDefinitions:363, ConfigurationClassPostProcessor (org.springframework.context.annotation)\n",
    "postProcessBeanDefinitionRegistry:233, ConfigurationClassPostProcessor (org.springframework.context.annotation)\n",
    "invokeBeanDefinitionRegistryPostProcessors:273, PostProcessorRegistrationDelegate (org.springframework.context.support)\n",
    "invokeBeanFactoryPostProcessors:93, PostProcessorRegistrationDelegate (org.springframework.context.support)\n",
    "invokeBeanFactoryPostProcessors:694, AbstractApplicationContext (org.springframework.context.support)\n",
    "refresh:532, AbstractApplicationContext (org.springframework.context.support)\n",
    "refresh:140, ServletWebServerApplicationContext (org.springframework.boot.web.servlet.context)\n",
    "refresh:759, SpringApplication (org.springframework.boot)\n",
    "refreshContext:395, SpringApplication (org.springframework.boot)\n",
    "run:327, SpringApplication (org.springframework.boot)\n",
    "run:1255, SpringApplication (org.springframework.boot)\n",
    "run:1243, SpringApplication (org.springframework.boot)\n",
    "main:10, Application (hello)\n",
    "```"
   ]
  },
  {
   "cell_type": "markdown",
   "metadata": {},
   "source": [
    "这个过程会加载并解析使用了`@Configuration`的类。\n",
    "\n",
    "bootstrap过程扫描到的bean如下："
   ]
  },
  {
   "cell_type": "markdown",
   "metadata": {},
   "source": [
    "1. beanName 'org.springframework.boot.autoconfigure.web.servlet.ServletWebServerFactoryConfiguration\\$EmbeddedTomcat',    \n",
    "   class [org/springframework/boot/autoconfigure/web/servlet/ServletWebServerFactoryConfiguration\\\\$EmbeddedTomcat.class]\n",
    "1. beanName 'org.springframework.boot.autoconfigure.http.codec.CodecsAutoConfiguration\\\\$JacksonCodecConfiguration',    \n",
    "   class [org/springframework/boot/autoconfigure/http/codec/CodecsAutoConfiguration\\\\$JacksonCodecConfiguration.class]\n",
    "1. beanName 'null',    \n",
    "   class [org/springframework/boot/autoconfigure/cache/CacheAutoConfiguration.class]\n",
    "1. beanName 'org.springframework.boot.autoconfigure.web.servlet.HttpEncodingAutoConfiguration',    \n",
    "   class [org/springframework/boot/autoconfigure/web/servlet/HttpEncodingAutoConfiguration.class]\n",
    "1. beanName 'org.springframework.boot.autoconfigure.validation.ValidationAutoConfiguration',    \n",
    "   class [org/springframework/boot/autoconfigure/validation/ValidationAutoConfiguration.class]\n",
    "1. beanName 'org.springframework.boot.autoconfigure.context.PropertyPlaceholderAutoConfiguration',    \n",
    "   class [org/springframework/boot/autoconfigure/context/PropertyPlaceholderAutoConfiguration.class]\n",
    "1. beanName 'org.springframework.boot.autoconfigure.web.servlet.DispatcherServletAutoConfiguration',    \n",
    "   class [org/springframework/boot/autoconfigure/web/servlet/DispatcherServletAutoConfiguration.class]\n",
    "1. beanName 'org.springframework.boot.autoconfigure.web.servlet.WebMvcAutoConfiguration\\\\$WebMvcAutoConfigurationAdapter\\\\$FaviconConfiguration',    \n",
    "   class [org/springframework/boot/autoconfigure/web/servlet/WebMvcAutoConfiguration\\\\$WebMvcAutoConfigurationAdapter\\$FaviconConfiguration.class]\n",
    "1. beanName 'null',    \n",
    "   class [org/springframework/boot/autoconfigure/cache/RedisCacheConfiguration.class]\n",
    "1. beanName 'org.springframework.boot.autoconfigure.http.JacksonHttpMessageConvertersConfiguration\\$MappingJackson2HttpMessageConverterConfiguration',    \n",
    "   class [org/springframework/boot/autoconfigure/http/JacksonHttpMessageConvertersConfiguration\\$MappingJackson2HttpMessageConverterConfiguration.class]\n",
    "1. beanName 'org.springframework.boot.autoconfigure.web.embedded.EmbeddedWebServerFactoryCustomizerAutoConfiguration',    \n",
    "   class [org/springframework/boot/autoconfigure/web/embedded/EmbeddedWebServerFactoryCustomizerAutoConfiguration.class]\n",
    "1. beanName 'org.springframework.boot.autoconfigure.web.servlet.ServletWebServerFactoryAutoConfiguration',    \n",
    "   class [org/springframework/boot/autoconfigure/web/servlet/ServletWebServerFactoryAutoConfiguration.class]\n",
    "1. beanName 'org.springframework.boot.autoconfigure.jackson.JacksonAutoConfiguration',    \n",
    "   class [org/springframework/boot/autoconfigure/jackson/JacksonAutoConfiguration.class]\n",
    "1. beanName 'org.springframework.boot.autoconfigure.jackson.JacksonAutoConfiguration\\$JacksonObjectMapperConfiguration',    \n",
    "   class [org/springframework/boot/autoconfigure/jackson/JacksonAutoConfiguration\\$JacksonObjectMapperConfiguration.class]\n",
    "1. beanName 'org.springframework.boot.autoconfigure.web.servlet.MultipartAutoConfiguration',    \n",
    "   class [org/springframework/boot/autoconfigure/web/servlet/MultipartAutoConfiguration.class]\n",
    "1. beanName 'org.springframework.boot.autoconfigure.web.servlet.error.ErrorMvcAutoConfiguration\\$WhitelabelErrorViewConfiguration',    \n",
    "   class [org/springframework/boot/autoconfigure/web/servlet/error/ErrorMvcAutoConfiguration\\$WhitelabelErrorViewConfiguration.class]\n",
    "1. beanName 'org.springframework.boot.autoconfigure.web.servlet.error.ErrorMvcAutoConfiguration',    \n",
    "   class [org/springframework/boot/autoconfigure/web/servlet/error/ErrorMvcAutoConfiguration.class]\n",
    "1. beanName 'org.springframework.boot.autoconfigure.web.servlet.DispatcherServletAutoConfiguration\\$DispatcherServletRegistrationConfiguration',    \n",
    "   class [org/springframework/boot/autoconfigure/web/servlet/DispatcherServletAutoConfiguration\\$DispatcherServletRegistrationConfiguration.class]\n",
    "1. beanName 'org.springframework.boot.autoconfigure.web.servlet.DispatcherServletAutoConfiguration\\$DispatcherServletConfiguration',    \n",
    "   class [org/springframework/boot/autoconfigure/web/servlet/DispatcherServletAutoConfiguration\\$DispatcherServletConfiguration.class]\n",
    "1. beanName 'org.springframework.boot.autoconfigure.web.servlet.WebMvcAutoConfiguration\\$EnableWebMvcConfiguration',    \n",
    "   class [org/springframework/boot/autoconfigure/web/servlet/WebMvcAutoConfiguration\\$EnableWebMvcConfiguration.class]\n",
    "1. beanName 'org.springframework.boot.autoconfigure.web.servlet.WebMvcAutoConfiguration\\$WebMvcAutoConfigurationAdapter',    \n",
    "   class [org/springframework/boot/autoconfigure/web/servlet/WebMvcAutoConfiguration\\$WebMvcAutoConfigurationAdapter.class]\n",
    "1. beanName 'org.springframework.boot.autoconfigure.jmx.JmxAutoConfiguration',    \n",
    "   class [org/springframework/boot/autoconfigure/jmx/JmxAutoConfiguration.class]\n",
    "1. beanName 'org.springframework.boot.autoconfigure.jackson.JacksonAutoConfiguration\\$JacksonObjectMapperBuilderConfiguration',    \n",
    "   class [org/springframework/boot/autoconfigure/jackson/JacksonAutoConfiguration\\$JacksonObjectMapperBuilderConfiguration.class]\n",
    "1. beanName 'org.springframework.boot.autoconfigure.websocket.servlet.WebSocketServletAutoConfiguration\\$TomcatWebSocketConfiguration',    \n",
    "   class [org/springframework/boot/autoconfigure/websocket/servlet/WebSocketServletAutoConfiguration\\$TomcatWebSocketConfiguration.class]\n",
    "1. beanName 'org.springframework.boot.autoconfigure.http.HttpMessageConvertersAutoConfiguration',    \n",
    "   class [org/springframework/boot/autoconfigure/http/HttpMessageConvertersAutoConfiguration.class]\n",
    "1. beanName 'org.springframework.boot.autoconfigure.security.reactive.ReactiveSecurityAutoConfiguration',    \n",
    "   class [org/springframework/boot/autoconfigure/security/reactive/ReactiveSecurityAutoConfiguration.class]\n",
    "1. beanName 'null',    \n",
    "   class [org/springframework/boot/autoconfigure/cache/NoOpCacheConfiguration.class]\n",
    "1. beanName 'org.springframework.boot.autoconfigure.context.ConfigurationPropertiesAutoConfiguration',    \n",
    "   class [org/springframework/boot/autoconfigure/context/ConfigurationPropertiesAutoConfiguration.class]\n",
    "1. beanName 'org.springframework.boot.autoconfigure.web.servlet.error.ErrorMvcAutoConfiguration\\$DefaultErrorViewResolverConfiguration',    \n",
    "   class [org/springframework/boot/autoconfigure/web/servlet/error/ErrorMvcAutoConfiguration\\$DefaultErrorViewResolverConfiguration.class]\n",
    "1. beanName 'org.springframework.boot.autoconfigure.jackson.JacksonAutoConfiguration\\$ParameterNamesModuleConfiguration',    \n",
    "   class [org/springframework/boot/autoconfigure/jackson/JacksonAutoConfiguration\\$ParameterNamesModuleConfiguration.class]\n",
    "1. beanName 'application', hello.Application\"   \n",
    "1. beanName 'org.springframework.boot.autoconfigure.http.JacksonHttpMessageConvertersConfiguration',    \n",
    "   class [org/springframework/boot/autoconfigure/http/JacksonHttpMessageConvertersConfiguration.class]\n",
    "1. beanName 'null',    \n",
    "   class [org/springframework/boot/autoconfigure/cache/GenericCacheConfiguration.class]\n",
    "1. beanName 'org.springframework.boot.autoconfigure.websocket.servlet.WebSocketServletAutoConfiguration',    \n",
    "   class [org/springframework/boot/autoconfigure/websocket/servlet/WebSocketServletAutoConfiguration.class]\n",
    "1. beanName 'org.springframework.boot.autoconfigure.web.servlet.WebMvcAutoConfiguration',    \n",
    "   class [org/springframework/boot/autoconfigure/web/servlet/WebMvcAutoConfiguration.class]\n",
    "1. beanName 'org.springframework.boot.autoconfigure.web.embedded.EmbeddedWebServerFactoryCustomizerAutoConfiguration\\$TomcatWebServerFactoryCustomizerConfiguration',    \n",
    "   class [org/springframework/boot/autoconfigure/web/embedded/EmbeddedWebServerFactoryCustomizerAutoConfiguration\\$TomcatWebServerFactoryCustomizerConfiguration.class]\n",
    "1. beanName 'org.springframework.boot.autoconfigure.admin.SpringApplicationAdminJmxAutoConfiguration',    \n",
    "   class [org/springframework/boot/autoconfigure/admin/SpringApplicationAdminJmxAutoConfiguration.class]\n",
    "1. beanName 'org.springframework.boot.autoconfigure.jackson.JacksonAutoConfiguration\\$Jackson2ObjectMapperBuilderCustomizerConfiguration',    \n",
    "   class [org/springframework/boot/autoconfigure/jackson/JacksonAutoConfiguration\\$Jackson2ObjectMapperBuilderCustomizerConfiguration.class]\n",
    "1. beanName 'org.springframework.boot.autoconfigure.http.HttpMessageConvertersAutoConfiguration\\$StringHttpMessageConverterConfiguration',    \n",
    "   class [org/springframework/boot/autoconfigure/http/HttpMessageConvertersAutoConfiguration\\$StringHttpMessageConverterConfiguration.class]\n",
    "1. beanName 'org.springframework.boot.autoconfigure.web.client.RestTemplateAutoConfiguration',    \n",
    "   class [org/springframework/boot/autoconfigure/web/client/RestTemplateAutoConfiguration.class]\n",
    "1. beanName 'org.springframework.boot.autoconfigure.http.codec.CodecsAutoConfiguration',    \n",
    "   class [org/springframework/boot/autoconfigure/http/codec/CodecsAutoConfiguration.class]\n",
    "1. beanName 'greetingController',    \n",
    "   class [hello/GreetingController.class]\n",
    "1. beanName 'null',    \n",
    "   class [org/springframework/boot/autoconfigure/cache/SimpleCacheConfiguration.class]\n",
    "1. beanName 'org.springframework.boot.autoconfigure.info.ProjectInfoAutoConfiguration',    \n",
    "   class [org/springframework/boot/autoconfigure/info/ProjectInfoAutoConfiguration.class]"
   ]
  },
  {
   "cell_type": "markdown",
   "metadata": {},
   "source": [
    "扫描结果中的第31项即是Demo工程的`Application`类。这个类使用了`@Configuration`注解。其他还有很多spring通过默认配置或推断帮应用自动注册的configuration class。"
   ]
  },
  {
   "cell_type": "markdown",
   "metadata": {},
   "source": [
    "Q：**Spring如何处理Configuration Class定义的Bean？**\n",
    "\n",
    "`@Bean`注解，一般存在于使用了`@Configuration`注解的类中。也可以Lite Mode存在非`@Configuration`的类中。\n",
    "\n",
    "对于`@Configuration`类中的`@Bean`，spring会记录下对应bean的定义信息，在需要对应bean的时候进行实例化。"
   ]
  },
  {
   "cell_type": "markdown",
   "metadata": {},
   "source": [
    "## spring bean management\n",
    "\n",
    "如前所述，**spring core是实现了DI功能的IoC Container。spring IoC Container的本质则是管理Java Bean的上下文运行时。**\n",
    "\n",
    "Q：**spring和应用定义的bean的关系是什么？**\n",
    "\n",
    "spring作为IoC Container来管理应用定义的bean，具体的管理操作包括bean的创建、销毁、查找、注入bean定义中声明的依赖、作为依赖注入到其他bean中。\n",
    "\n",
    "应用定义的bean则实现具体逻辑，和IoC Container发生直接耦合。bean直接则是松耦合的。"
   ]
  },
  {
   "cell_type": "markdown",
   "metadata": {},
   "source": [
    "### bean declaration\n",
    "\n",
    "Q：**`@Bean`的作用是什么？如何使用？**\n",
    "\n",
    "`@Bean`是一个method-level的注解，用来声明bean。[这里](https://docs.spring.io/spring/docs/4.3.18.RELEASE/spring-framework-reference/htmlsingle/#beans-java-bean-annotation)描述了如何使用`@Bean`声明bean、如何声明创建bean所需的依赖、如何声明bean的作用域、以及如何自定义bean name等。\n",
    "\n",
    "[@Bean](https://docs.spring.io/spring-framework/docs/current/javadoc-api/org/springframework/context/annotation/Bean.html)的javadoc更加结构化的描述了`@Bean`的使用方法。\n",
    "\n",
    "Q：**`@Component`的作用是什么？如何使用？**\n",
    "\n",
    "`@Component`是一个class-level的注解，用来声明bean。\n",
    "\n",
    "[@Component](https://docs.spring.io/spring-framework/docs/current/javadoc-api/org/springframework/stereotype/Component.html)的javadoc描述了具体内容。\n",
    "\n",
    "此外还有`@Controller`, `@Service`, `@Repository`之类的注解，也都是class-level的，且本身是对`@Component`的细化。\n",
    "\n",
    "这些不同注解都是用来声明bean的，没有本质上的区别，只是从逻辑上进行了区分，用来支持实现软件设计领域的不同概念。\n",
    "\n",
    "Q：**`@Bean`与`@Component`的关系是什么？区别是什么？**\n",
    "\n",
    "`@Bean`和`@Component`都是用来声明bean的。区别是前者是method-level，后者是class-level。"
   ]
  },
  {
   "cell_type": "markdown",
   "metadata": {},
   "source": [
    "### bean creation\n",
    "\n",
    "`@Bean`用来声明bean。\n",
    "\n",
    "Q：**spring IoC Container中的bean如何创建？**\n",
    "\n",
    "具体的创建步骤如下：\n",
    "1. spring完成bootstrapping的配置过程后，会获取到Configuration Class中关于bean的声明。\n",
    "1. 使用反射API逐个根据bean definition创建bean实例\n",
    "1. 定义bean的class可能声明了依赖，进行依赖注入\n",
    "1. 定义bean的class可能实现了`*Aware`接口，依次调用\n",
    "1. 调用实现了`BeanPostProcessors`接口的`postProcessBeforeInitialization`方法\n",
    "1. 调用实现了`InitializingBean`接口的`afterPropertiesSet`方法\n",
    "1. 调用声明的init callback\n",
    "1. 调用实现了`BeanPostProcessors`接口的`postProcessAfterInitialization`方法\n",
    "\n",
    "完成上面所说的所有步骤后，一个功能完备的bean实例处于可以工作状态。\n",
    "\n",
    "创建好的bean可以用来创建其他bean。"
   ]
  },
  {
   "cell_type": "markdown",
   "metadata": {},
   "source": [
    "### bean destruction\n",
    "\n",
    "Q：**spring IoC Container中的bean如何销毁？**\n",
    "\n",
    "具体销毁步骤如下：\n",
    "\n",
    "1. 调用实现了`DisposableBean`接口的destroy method.\n",
    "1. 调用声明的destroy callback"
   ]
  },
  {
   "cell_type": "markdown",
   "metadata": {},
   "source": [
    "### bean scope\n",
    "\n",
    "Q：**bean被创建到被销毁间的存活时间有多长？**\n",
    "\n",
    "bean的存活时间由bean scope决定。\n",
    "\n",
    "常用的scope：\n",
    "- ConfigurableBeanFactory.SCOPE_PROTOTYPE： 每次获取bean时都会实例化\n",
    "- ConfigurableBeanFactory.SCOPE_SINGLETON： IoC Container生命周期内单例\n",
    "- WebApplicationContext.SCOPE_REQUEST：  HTTP Request处理过程中存在\n",
    "- WebApplicationContext.SCOPE_SESSION：  HTTP Session会话内存在"
   ]
  },
  {
   "cell_type": "markdown",
   "metadata": {},
   "source": [
    "### bean resolve\n",
    "\n",
    "Q：**spring如何查找一个特定的bean？**\n",
    "\n",
    "由bean的声明可知，每个bean定义中包含了bean name和bean class。spring会至少为每个bean维护这俩属性。当遇到需要使用bean的引用时，会在维护的bean的列表里查找最符合条件的bean。查找方式则是平凡的，只是存在一些实现细节的问题需要处理。比如如何选择bean名称和类型相同的不同实现、如何处理基本数据类型、如何解决多个相同类型参数的精确匹配的问题、如何解决java运行时获取不到参数名的问题。\n",
    "\n",
    "Q：**spring如何解决bean的循环引用问题？**\n",
    "\n",
    "spring功能上作为bean container，负责创建bean并为bean注入依赖。各个互相引用的bean本质上构成一个以bean为节点，引用为边的有向图。这个有向图一定会产生环。\n",
    "\n",
    "最简单的例子，A依赖B，B依赖A。那么，spring创建A时需要先实例化B，创建B时又需要先实例化A。如果A和B都通过构造函数注入的方式话，spring会抛出`BeanCurrentlyInCreationException`异常。如果使用setter方式注入的话，A和B可以先完成实例化，然后再注入各种依赖的引用。"
   ]
  },
  {
   "cell_type": "markdown",
   "metadata": {},
   "source": [
    "# spring autowiring & auto-detection\n",
    "\n",
    "Q：**什么是spring的autowiring和auto-dection？它们之间有什么关系？**\n",
    "\n",
    "上一节了解spring中bean的生命周期相关知识，我们知道spring会自动为bean处理依赖。这个过程即autowiring（自动装配），而确定autowiring所使用的对象引用的过程则是auto-detection。所以autowiring和auto-dection可以认为是一个过程即依赖注入过程的两个阶段。"
   ]
  },
  {
   "cell_type": "markdown",
   "metadata": {},
   "source": [
    "Q：**`@Autowired`作用是什么？如何使用？**\n",
    "\n",
    "> Marks a constructor, field, setter method or config method as to be autowired by Spring's dependency injection facilities.\n",
    "\n",
    "本质上是用来声明依赖关系的。\n",
    "\n",
    "[@Autowired](https://docs.spring.io/spring-framework/docs/current/javadoc-api/org/springframework/beans/factory/annotation/Autowired.html)的javadoc描述了具体内容。\n",
    "\n",
    "核心要点：\n",
    "- `@Autowired`可用于constructors、fields、setter\n",
    "- class内至多一个constructor可使用`@Autowired`注解\n",
    "- 注入顺序是constructor > fields > setter\n",
    "- 注入过程由`BeanPostProcessor`执行，`BeanPostProcessor`不能使用`@Autowired`\n",
    "\n",
    "\n",
    "关于依赖注入的其他方面基本是比较单调平凡。没什么好说的。"
   ]
  },
  {
   "cell_type": "markdown",
   "metadata": {},
   "source": [
    "# 小结\n",
    "\n",
    "笔记从操作系统里的java进程开始讲起，使用spring boot的官方demo为例，分析了spring boot application的bootstrap过程，以及bootstrap过程中的配置过程，整理了spring作为bean container管理bean生命周期和依赖注入的知识重点，并结合spring源码分析了重要实现代码。\n",
    "\n",
    "基本完成一开始设定的目标：**知其然，亦知其所以然**。\n",
    "\n",
    "一些微小的工作。\n",
    "\n",
    "HAVE FUN！"
   ]
  }
 ],
 "metadata": {
  "celltoolbar": "Slideshow",
  "kernelspec": {
   "display_name": "Java",
   "language": "java",
   "name": "java"
  },
  "language_info": {
   "codemirror_mode": "java",
   "file_extension": ".java",
   "mimetype": "text/x-java-source",
   "name": "Java",
   "pygments_lexer": "java",
   "version": "9+181"
  },
  "toc": {
   "base_numbering": 1,
   "nav_menu": {},
   "number_sections": false,
   "sideBar": true,
   "skip_h1_title": false,
   "title_cell": "Table of Contents",
   "title_sidebar": "Contents",
   "toc_cell": true,
   "toc_position": {
    "height": "calc(100% - 180px)",
    "left": "10px",
    "top": "150px",
    "width": "227px"
   },
   "toc_section_display": true,
   "toc_window_display": false
  }
 },
 "nbformat": 4,
 "nbformat_minor": 2
}
