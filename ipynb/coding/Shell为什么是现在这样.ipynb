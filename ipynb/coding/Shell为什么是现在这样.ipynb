{
 "cells": [
  {
   "cell_type": "markdown",
   "metadata": {
    "toc": true
   },
   "source": [
    "<h1>Table of Contents<span class=\"tocSkip\"></span></h1>\n",
    "<div class=\"toc\"><ul class=\"toc-item\"><li><span><a href=\"#引入\" data-toc-modified-id=\"引入-1\">引入</a></span></li><li><span><a href=\"#环境\" data-toc-modified-id=\"环境-2\">环境</a></span></li><li><span><a href=\"#概念\" data-toc-modified-id=\"概念-3\">概念</a></span><ul class=\"toc-item\"><li><span><a href=\"#解释执行\" data-toc-modified-id=\"解释执行-3.1\">解释执行</a></span></li><li><span><a href=\"#通配符\" data-toc-modified-id=\"通配符-3.2\">通配符</a></span></li><li><span><a href=\"#正则表达式\" data-toc-modified-id=\"正则表达式-3.3\">正则表达式</a></span></li><li><span><a href=\"#特殊字符\" data-toc-modified-id=\"特殊字符-3.4\">特殊字符</a></span></li></ul></li><li><span><a href=\"#语法\" data-toc-modified-id=\"语法-4\">语法</a></span></li><li><span><a href=\"#参考资料\" data-toc-modified-id=\"参考资料-5\">参考资料</a></span></li></ul></div>"
   ]
  },
  {
   "cell_type": "markdown",
   "metadata": {},
   "source": [
    "# 引入\n",
    "\n",
    "Shell很好用，可以很方便得将一些事情自动化完成，批量完成，高效率完成。  \n",
    "Shell很难用，命令、参数一大堆，脚本语法很诡异，兼容包袱又很重。听说有个POSIX Shell标准，大佬们已经开始超越标准了，好伐～～～"
   ]
  },
  {
   "cell_type": "markdown",
   "metadata": {},
   "source": [
    "# 环境\n",
    "\n",
    "- bash 4.0以上"
   ]
  },
  {
   "cell_type": "markdown",
   "metadata": {},
   "source": [
    "# 概念"
   ]
  },
  {
   "cell_type": "markdown",
   "metadata": {},
   "source": [
    "## 解释执行"
   ]
  },
  {
   "cell_type": "markdown",
   "metadata": {},
   "source": [
    "## 通配符"
   ]
  },
  {
   "cell_type": "markdown",
   "metadata": {},
   "source": [
    "## 正则表达式"
   ]
  },
  {
   "cell_type": "markdown",
   "metadata": {},
   "source": [
    "## 特殊字符"
   ]
  },
  {
   "cell_type": "markdown",
   "metadata": {},
   "source": [
    "# 语法"
   ]
  },
  {
   "cell_type": "markdown",
   "metadata": {},
   "source": [
    "# 参考资料\n",
    "\n",
    "- Advanced Bash-Scripting Guide\n",
    "- [Shell 编程之执行过程](https://linuxtoy.org/archives/shell-programming-execute.html)\n",
    "- [Shell 编程之语法基础](https://linuxtoy.org/archives/shell-programming-basic.html)"
   ]
  }
 ],
 "metadata": {
  "kernelspec": {
   "display_name": "Python 3",
   "language": "python",
   "name": "python3"
  },
  "language_info": {
   "codemirror_mode": {
    "name": "ipython",
    "version": 3
   },
   "file_extension": ".py",
   "mimetype": "text/x-python",
   "name": "python",
   "nbconvert_exporter": "python",
   "pygments_lexer": "ipython3",
   "version": "3.5.4"
  },
  "toc": {
   "base_numbering": 1,
   "nav_menu": {},
   "number_sections": false,
   "sideBar": true,
   "skip_h1_title": false,
   "title_cell": "Table of Contents",
   "title_sidebar": "Contents",
   "toc_cell": true,
   "toc_position": {},
   "toc_section_display": true,
   "toc_window_display": false
  }
 },
 "nbformat": 4,
 "nbformat_minor": 2
}
