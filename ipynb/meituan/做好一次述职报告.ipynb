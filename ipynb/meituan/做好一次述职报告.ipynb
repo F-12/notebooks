{
 "cells": [
  {
   "cell_type": "markdown",
   "metadata": {
    "slideshow": {
     "slide_type": "skip"
    },
    "toc": true
   },
   "source": [
    "<h1>Table of Contents<span class=\"tocSkip\"></span></h1>\n",
    "<div class=\"toc\"><ul class=\"toc-item\"><li><span><a href=\"#引入\" data-toc-modified-id=\"引入-1\">引入</a></span></li><li><span><a href=\"#原则\" data-toc-modified-id=\"原则-2\">原则</a></span></li><li><span><a href=\"#方法论\" data-toc-modified-id=\"方法论-3\">方法论</a></span><ul class=\"toc-item\"><li><span><a href=\"#材料收集\" data-toc-modified-id=\"材料收集-3.1\">材料收集</a></span><ul class=\"toc-item\"><li><ul class=\"toc-item\"><li><span><a href=\"#2018H1述职报告概述\" data-toc-modified-id=\"2018H1述职报告概述-3.1.0.1\">2018H1述职报告概述</a></span></li></ul></li></ul></li><li><span><a href=\"#材料组织\" data-toc-modified-id=\"材料组织-3.2\">材料组织</a></span><ul class=\"toc-item\"><li><ul class=\"toc-item\"><li><span><a href=\"#跑腿小程序——接入Gitflow分支管理模型\" data-toc-modified-id=\"跑腿小程序——接入Gitflow分支管理模型-3.2.0.1\">跑腿小程序——接入Gitflow分支管理模型</a></span></li></ul></li></ul></li><li><span><a href=\"#展示\" data-toc-modified-id=\"展示-3.3\">展示</a></span><ul class=\"toc-item\"><li><span><a href=\"#以终为始\" data-toc-modified-id=\"以终为始-3.3.1\">以终为始</a></span><ul class=\"toc-item\"><li><span><a href=\"#一些启发性问题\" data-toc-modified-id=\"一些启发性问题-3.3.1.1\">一些启发性问题</a></span></li></ul></li><li><span><a href=\"#线索\" data-toc-modified-id=\"线索-3.3.2\">线索</a></span><ul class=\"toc-item\"><li><span><a href=\"#一些启发性问题\" data-toc-modified-id=\"一些启发性问题-3.3.2.1\">一些启发性问题</a></span></li></ul></li><li><span><a href=\"#结构\" data-toc-modified-id=\"结构-3.3.3\">结构</a></span></li><li><span><a href=\"#描述性文字\" data-toc-modified-id=\"描述性文字-3.3.4\">描述性文字</a></span></li><li><span><a href=\"#图表\" data-toc-modified-id=\"图表-3.3.5\">图表</a></span></li><li><span><a href=\"#数据\" data-toc-modified-id=\"数据-3.3.6\">数据</a></span></li></ul></li></ul></li><li><span><a href=\"#案例\" data-toc-modified-id=\"案例-4\">案例</a></span></li></ul></div>"
   ]
  },
  {
   "cell_type": "markdown",
   "metadata": {
    "slideshow": {
     "slide_type": "slide"
    }
   },
   "source": [
    "# 引入\n",
    "\n",
    "工作中，进行述职报告是非常常见的一项工作内容。述职报告，本身既是一次向上级和同事展示自己工作内容和工作成果的活动；同时还是一次很好的自我总结、反思、提高的过程。因而，做好一次述职报告本身是意见重要的事情。"
   ]
  },
  {
   "cell_type": "markdown",
   "metadata": {
    "slideshow": {
     "slide_type": "slide"
    }
   },
   "source": [
    "# 原则\n",
    "\n",
    "- 工夫在诗外\n",
    "- 实事求是\n",
    "- 持续改进"
   ]
  },
  {
   "cell_type": "markdown",
   "metadata": {
    "slideshow": {
     "slide_type": "slide"
    }
   },
   "source": [
    "# 方法论"
   ]
  },
  {
   "cell_type": "markdown",
   "metadata": {
    "slideshow": {
     "slide_type": "slide"
    }
   },
   "source": [
    "## 材料收集\n",
    "\n",
    "建议这个环节在平时进行。  \n",
    "养成项目总结的习惯，维护一个个人项目列表。  \n",
    "每做一个项目，无论大小，记录这个项目过程中产生的所有文档。  \n",
    "包括但不限于：  \n",
    "- 需求规格说明\n",
    "- 人员排期安排\n",
    "- 技术调研文档\n",
    "- 技术方案文档\n",
    "- 架构设计文档\n",
    "- 背景知识文档\n",
    "- 评估数据\n",
    "- 业务统计数据"
   ]
  },
  {
   "cell_type": "markdown",
   "metadata": {
    "slideshow": {
     "slide_type": "subslide"
    }
   },
   "source": [
    "刚刚参加工作时，没有经验，没有整理工作内容的习惯，每次到了述职或晋升答辩时都比较被动。临时整理工作内容遗漏比较大，整理压力比较大，作出的报告比较粗糙。  \n",
    "反思之后，开始改变。每做一件事情，在个人wiki空间留下对应工作的日志。  \n",
    "日志中一般会包含如下要点：  \n",
    "- 需求描述\n",
    "- 技术改进方案\n",
    "- PM制作的业务进展报告\n",
    "- 业务指标的统计数据"
   ]
  },
  {
   "cell_type": "markdown",
   "metadata": {
    "slideshow": {
     "slide_type": "fragment"
    }
   },
   "source": [
    "**下面为2018H1述职报告时收集到的资料汇总**\n",
    "\n",
    "(链接只有内网可以打开，所以。。。你懂的。。。)\n",
    "\n",
    "#### 2018H1述职报告概述\n",
    "\n",
    "<div class=\"tableWrapper\"><table style=\"width: 739px;\"><tr class=\"cloneHeader\" style=\"right: 32px; left: 8px;\"><th width=\"50px\" data-colwidth=\"50\" style=\"min-width: 50px; max-width: 50px;\"><p>工程</p></th><th width=\"139px\" data-colwidth=\"139\" style=\"min-width: 139px; max-width: 139px;\"><p>项目名称</p></th><th width=\"72px\" data-colwidth=\"72\" style=\"min-width: 72px; max-width: 72px;\"><p>开始时间</p></th><th width=\"72px\" data-colwidth=\"72\" style=\"min-width: 72px; max-width: 72px;\"><p>结束时间</p></th><th width=\"72px\" data-colwidth=\"72\" style=\"min-width: 72px; max-width: 72px;\"><p>类型</p></th><th width=\"334px\" data-colwidth=\"334\" style=\"min-width: 334px; max-width: 334px;\"><p>工作内容</p></th></tr><colgroup><col style=\"width: 50px;\"><col style=\"width: 139px;\"><col style=\"width: 72px;\"><col style=\"width: 72px;\"><col style=\"width: 72px;\"><col style=\"width: 334px;\"></colgroup><tbody><tr class=\"originHeader\"><th width=\"50px\" data-colwidth=\"50\" style=\"min-width: 50px; max-width: 50px;\"><p>工程</p></th><th width=\"139px\" data-colwidth=\"139\" style=\"min-width: 139px; max-width: 139px;\"><p>项目名称</p></th><th width=\"72px\" data-colwidth=\"72\" style=\"min-width: 72px; max-width: 72px;\"><p>开始时间</p></th><th width=\"72px\" data-colwidth=\"72\" style=\"min-width: 72px; max-width: 72px;\"><p>结束时间</p></th><th width=\"72px\" data-colwidth=\"72\" style=\"min-width: 72px; max-width: 72px;\"><p>类型</p></th><th width=\"334px\" data-colwidth=\"334\" style=\"min-width: 334px; max-width: 334px;\"><p>工作内容</p></th></tr><tr><td width=\"50px\" data-colwidth=\"50\" rowspan=\"7\"><p>跑腿小程序</p></td><td width=\"139px\" data-colwidth=\"139\"><p><a data-pageid=\"38801278\" id=\"38801278\" title=\"跑腿代购 v1.1\" href=\"https://123.sankuai.com/km/page/38801278\" class=\"ct-link\" rel=\"noopener\" target=\"_blank\">跑腿代购 v1.1</a></p></td><td width=\"72px\" data-colwidth=\"72\"><p>4月8号</p></td><td width=\"72px\" data-colwidth=\"72\"><p>5月3号</p></td><td width=\"72px\" data-colwidth=\"72\"><p>业务</p></td><td width=\"334px\" data-colwidth=\"334\"><ul><li><p><a data-pageid=\"38866272\" id=\"38866272\" title=\"帮买首页&amp;帮买下单页\" href=\"https://123.sankuai.com/km/page/38866272\" class=\"ct-link\" rel=\"noopener\" target=\"_blank\">帮买首页&amp;帮买下单页</a></p></li><li><p><a data-pageid=\"38867004\" id=\"38867004\" title=\"帮买消息推送\" href=\"https://123.sankuai.com/km/page/38867004\" class=\"ct-link\" rel=\"noopener\" target=\"_blank\">帮买消息推送</a></p></li><li><p><a data-pageid=\"38866264\" id=\"38866264\" title=\"1.0版本遗留问题优化\" href=\"https://123.sankuai.com/km/page/38866264\" class=\"ct-link\" rel=\"noopener\" target=\"_blank\">1.0版本遗留问题优化</a></p></li></ul></td></tr><tr><td width=\"139px\" data-colwidth=\"139\"><p><a data-pageid=\"38801271\" id=\"38801271\" title=\"跑腿代购 v1.2\" href=\"https://123.sankuai.com/km/page/38801271\" class=\"ct-link\" rel=\"noopener\" target=\"_blank\">跑腿代购 v1.2</a></p></td><td width=\"72px\" data-colwidth=\"72\"><p>5月4号</p></td><td width=\"72px\" data-colwidth=\"72\"><p>6月4号</p></td><td width=\"72px\" data-colwidth=\"72\"><p>业务</p></td><td width=\"334px\" data-colwidth=\"334\"><ul><li><p><a data-pageid=\"38866261\" id=\"38866261\" title=\"追加小费\" href=\"https://123.sankuai.com/km/page/38866261\" class=\"ct-link\" rel=\"noopener\" target=\"_blank\">追加小费</a></p></li><li><p><a data-pageid=\"38870003\" id=\"38870003\" title=\"帮送再来一单\" href=\"https://123.sankuai.com/km/page/38870003\" class=\"ct-link\" rel=\"noopener\" target=\"_blank\">帮送再来一单</a></p></li><li><p><a data-pageid=\"38870007\" id=\"38870007\" title=\"1.1版本遗留问题优化\" href=\"https://123.sankuai.com/km/page/38870007\" class=\"ct-link\" rel=\"noopener\" target=\"_blank\">1.1版本遗留问题优化</a></p></li><li><p>wx-login sdk更新</p></li><li><p>重构，改善既有代码质量</p></li></ul></td></tr><tr><td width=\"139px\" data-colwidth=\"139\"><p><a data-pageid=\"38801257\" id=\"38801257\" title=\"跑腿代购 v1.3\" href=\"https://123.sankuai.com/km/page/38801257\" class=\"ct-link\" rel=\"noopener\" target=\"_blank\">跑腿代购 v1.3</a></p></td><td width=\"72px\" data-colwidth=\"72\"><p>6月4号</p></td><td width=\"72px\" data-colwidth=\"72\"><p>6月27号</p></td><td width=\"72px\" data-colwidth=\"72\"><p>业务</p></td><td width=\"334px\" data-colwidth=\"334\"><ul><li><p><a data-pageid=\"38866259\" id=\"38866259\" title=\"小程序邀新红包\" href=\"https://123.sankuai.com/km/page/38866259\" class=\"ct-link\" rel=\"noopener\" target=\"_blank\">小程序邀新红包</a></p></li></ul></td></tr><tr><td width=\"139px\" data-colwidth=\"139\"><p><a data-pageid=\"14626842\" id=\"14626842\" title=\"跑腿小程序接入GitFlow\" href=\"https://123.sankuai.com/km/page/14626842\" class=\"ct-link\" rel=\"noopener\" target=\"_blank\">跑腿小程序接入GitFlow</a></p></td><td width=\"72px\" data-colwidth=\"72\"><p><br></p></td><td width=\"72px\" data-colwidth=\"72\"><p><br></p></td><td width=\"72px\" data-colwidth=\"72\"><p>技术</p></td><td width=\"334px\" data-colwidth=\"334\"><ul><li><p>分支管理接入Gitflow模型</p></li></ul></td></tr><tr><td width=\"139px\" data-colwidth=\"139\"><p><a data-pageid=\"17356104\" id=\"17356104\" title=\"页面间参数传递\" href=\"https://123.sankuai.com/km/page/17356104\" class=\"ct-link\" rel=\"noopener\" target=\"_blank\">页面间参数传递</a></p></td><td width=\"72px\" data-colwidth=\"72\"><p><br></p></td><td width=\"72px\" data-colwidth=\"72\"><p><br></p></td><td width=\"72px\" data-colwidth=\"72\"><p>技术</p></td><td width=\"334px\" data-colwidth=\"334\"><ul><li><p>实现小程序页面间参数传递的event bus机制</p></li><li><p>解决跑腿小程序参数传递的混乱情况</p></li></ul></td></tr><tr><td width=\"139px\" data-colwidth=\"139\"><p><a data-pageid=\"21849519\" id=\"21849519\" title=\"流程自动化\" href=\"https://123.sankuai.com/km/page/21849519\" class=\"ct-link\" rel=\"noopener\" target=\"_blank\">流程自动化</a></p></td><td width=\"72px\" data-colwidth=\"72\"><p><br></p></td><td width=\"72px\" data-colwidth=\"72\"><p><br></p></td><td width=\"72px\" data-colwidth=\"72\"><p>技术</p></td><td width=\"334px\" data-colwidth=\"334\"><ul><li><p>跑腿小程序1.0和1.1开发中关于发布和上线环节需要手动处理的部分脚本化</p></li><li><p>规范小程序发布的流程，减少因修改代码引起的发布风险</p></li></ul></td></tr><tr><td width=\"139px\" data-colwidth=\"139\"><p><a data-pageid=\"16948952\" id=\"16948952\" title=\"代码预处理\" href=\"https://123.sankuai.com/km/page/16948952\" class=\"ct-link\" rel=\"noopener\" target=\"_blank\">代码预处理</a></p></td><td width=\"72px\" data-colwidth=\"72\"><p><br></p></td><td width=\"72px\" data-colwidth=\"72\"><p><br></p></td><td width=\"72px\" data-colwidth=\"72\"><p>技术</p></td><td width=\"334px\" data-colwidth=\"334\"><ul><li><p>gulp构建</p></li><li><p>linting</p></li><li><p>async/await 异步支持</p></li></ul></td></tr><tr><td width=\"50px\" data-colwidth=\"50\"><p>跑腿H5</p></td><td width=\"139px\" data-colwidth=\"139\"><p>跑腿H5 v1.7</p></td><td width=\"72px\" data-colwidth=\"72\"><p>Q1</p></td><td width=\"72px\" data-colwidth=\"72\"><p>Q1</p></td><td width=\"72px\" data-colwidth=\"72\"><p>业务</p></td><td width=\"334px\" data-colwidth=\"334\"><p><a id=\"\" title=\"\" href=\"https://wiki.sankuai.com/pages/viewpage.action?pageId=976665544\" class=\"ct-link\" rel=\"noopener\" target=\"_blank\"></a><a id=\"\" title=\"订单页面改版\" href=\"https://wiki.sankuai.com/pages/viewpage.action?pageId=1212465418\" class=\"ct-link\" rel=\"noopener\" target=\"_blank\">订单页面改版</a></p><p><a id=\"\" title=\"帮买商品费用支付线上化\" href=\"https://wiki.sankuai.com/pages/viewpage.action?pageId=1167007431\" class=\"ct-link\" rel=\"noopener\" target=\"_blank\">帮买商品费用支付线上化</a></p><p><a id=\"\" title=\"退款流程优化\" href=\"https://wiki.sankuai.com/pages/viewpage.action?pageId=1217008875\" class=\"ct-link\" rel=\"noopener\" target=\"_blank\"><u>退款流程优化</u></a><br></p></td></tr><tr><td width=\"50px\" data-colwidth=\"50\"><p><br></p></td><td width=\"139px\" data-colwidth=\"139\"><p>跑腿H5 v1.8</p></td><td width=\"72px\" data-colwidth=\"72\"><p>Q1</p></td><td width=\"72px\" data-colwidth=\"72\"><p>Q1</p></td><td width=\"72px\" data-colwidth=\"72\"><p>业务</p></td><td width=\"334px\" data-colwidth=\"334\"><p><a id=\"\" title=\"隐私号-跑腿C端需求（H5）\" href=\"https://wiki.sankuai.com/pages/viewpage.action?pageId=1229037502\" class=\"ct-link\" rel=\"noopener\" target=\"_blank\">隐私号-跑腿C端需求（H5）</a></p><p><span style=\"color: rgb(59, 115, 175);\">个人信息保护专项-跑腿C</span></p><p><span style=\"color: rgb(59, 115, 175);\">帮送-再来一单（H5）</span></p></td></tr><tr><td width=\"50px\" data-colwidth=\"50\"><p><br></p></td><td width=\"139px\" data-colwidth=\"139\"><p>跑腿H5 前后端分离</p></td><td width=\"72px\" data-colwidth=\"72\"><p>Q1</p></td><td width=\"72px\" data-colwidth=\"72\"><p>Q1</p></td><td width=\"72px\" data-colwidth=\"72\"><p>技术</p></td><td width=\"334px\" data-colwidth=\"334\"><p><a id=\"\" title=\"前后端分离\" href=\"https://wiki.sankuai.com/pages/viewpage.action?pageId=1365981245#id-2018%E6%98%A5%E5%AD%A3%E6%99%8B%E5%8D%87%E7%94%B3%E8%AF%B7%E6%9D%90%E6%96%99%E6%95%B4%E7%90%86-%E5%89%8D%E5%90%8E%E7%AB%AF%E5%88%86%E7%A6%BB\" class=\"ct-link\" rel=\"noopener\" target=\"_blank\">前后端分离</a></p></td></tr><tr><td width=\"50px\" data-colwidth=\"50\" rowspan=\"3\"><p><br></p></td><td width=\"139px\" data-colwidth=\"139\"><p>外卖app切换native</p></td><td width=\"72px\" data-colwidth=\"72\"><p>5月2号</p></td><td width=\"72px\" data-colwidth=\"72\"><p>5月11号</p></td><td width=\"72px\" data-colwidth=\"72\"><p>业务</p></td><td width=\"334px\" data-colwidth=\"334\"><ul><li><p>流量统计接入</p></li><li><p>爆款页开发</p></li><li><p>评价，取消等流程对接</p></li></ul></td></tr><tr><td width=\"139px\" data-colwidth=\"139\"><p>运营活动</p></td><td width=\"72px\" data-colwidth=\"72\"><p>—</p></td><td width=\"72px\" data-colwidth=\"72\"><p>—</p></td><td width=\"72px\" data-colwidth=\"72\"><p>业务</p></td><td width=\"334px\" data-colwidth=\"334\"><ul><li><p>5.07～5.16 517吃货节</p></li><li><p>5.21～5.25 大牌代购承接品牌商家营销</p></li><li><p>5.28～6.01 跑腿banner活动承接</p></li><li><p><span style=\"color: rgb(0, 0, 0);\">6.04～6.08 运营页面高达组件化平台技术调研</span></p></li></ul></td></tr><tr><td width=\"139px\" data-colwidth=\"139\"><p>跑腿H5项目维护</p></td><td width=\"72px\" data-colwidth=\"72\"><p>—</p></td><td width=\"72px\" data-colwidth=\"72\"><p>—</p></td><td width=\"72px\" data-colwidth=\"72\"><p>业务</p></td><td width=\"334px\" data-colwidth=\"334\"><ul><li><p><span style=\"color: rgb(0, 0, 0);\">5.26 团ios降级h5</span></p></li><li><p>5.29 隐私号故障紧急处理</p></li><li><p>帮送下单转化率数据修复</p></li></ul></td></tr><tr><td width=\"50px\" data-colwidth=\"50\" rowspan=\"2\"><p>其他</p></td><td width=\"139px\" data-colwidth=\"139\"><p>组内分享</p></td><td width=\"72px\" data-colwidth=\"72\"><p><br></p></td><td width=\"72px\" data-colwidth=\"72\"><p><br></p></td><td width=\"72px\" data-colwidth=\"72\"><p><br></p></td><td width=\"334px\" data-colwidth=\"334\"><p><br></p></td></tr><tr><td width=\"139px\" data-colwidth=\"139\"><p>面试</p></td><td width=\"72px\" data-colwidth=\"72\"><p>4月08</p></td><td width=\"72px\" data-colwidth=\"72\"><p>4月13</p></td><td width=\"72px\" data-colwidth=\"72\"><p><br></p></td><td width=\"334px\" data-colwidth=\"334\"><p>面试2人</p></td></tr><tr><td width=\"50px\" data-colwidth=\"50\"><p><br></p></td><td width=\"139px\" data-colwidth=\"139\"><p>文章</p></td><td width=\"72px\" data-colwidth=\"72\"><p><br></p></td><td width=\"72px\" data-colwidth=\"72\"><p><br></p></td><td width=\"72px\" data-colwidth=\"72\"><p><br></p></td><td width=\"334px\" data-colwidth=\"334\"><p>跑腿回忆录</p></td></tr></tbody></table></div>"
   ]
  },
  {
   "cell_type": "markdown",
   "metadata": {
    "slideshow": {
     "slide_type": "slide"
    }
   },
   "source": [
    "## 材料组织\n",
    "\n",
    "述职有一项功能是提供主管考察述职者工作是否Qualified的机会。从这个角度出发，组织述职内容可以参考招聘面试的[标准化面试](http://wiki.mbalib.com/wiki/%E7%BB%93%E6%9E%84%E5%8C%96%E9%9D%A2%E8%AF%95)过程中使用的[STAR原则](http://wiki.mbalib.com/wiki/STAR%E5%8E%9F%E5%88%99)。\n",
    "\n",
    "- Situation（情景）：描述项目背景，突出业务价值\n",
    "- Task（任务）：描述项目目标，以目标为导向\n",
    "- Action（行动）：描述工作内容，突出难点、解决方案、工作亮点\n",
    "- Result（结果）：描述项目结果，回归项目目标和业务价值"
   ]
  },
  {
   "cell_type": "markdown",
   "metadata": {
    "slideshow": {
     "slide_type": "subslide"
    }
   },
   "source": [
    "**下面是2018H1述职报告时关于跑腿小程序接入Gitflow分支管理模型的材料组织**  \n",
    "（这个只是一个项目的内容，其他的可以使用同样的方法进行组织）\n",
    "\n",
    "#### 跑腿小程序——接入Gitflow分支管理模型"
   ]
  },
  {
   "cell_type": "markdown",
   "metadata": {
    "slideshow": {
     "slide_type": "fragment"
    }
   },
   "source": [
    "##### Situation（背景）\n",
    "跑腿小程序是一个多人写协作开发的项目。开发，QA，验收，发布等流程存在并行进行的需求。  \n",
    "分析现有分支管理，存在如下问题：  \n",
    "- 既有的分支管理有点简单，并行支持能力差。\n",
    "- 现有分支管理模型和实际开发流程对应不上，缺少备机对应的分支，备机修改代码实际在master上完成，版本控制能力差。"
   ]
  },
  {
   "cell_type": "markdown",
   "metadata": {
    "slideshow": {
     "slide_type": "fragment"
    }
   },
   "source": [
    "##### Task（任务）\n",
    "建立完善的跑腿项目分支管理流程。支持开发的并行能力，包括迭代版本的并行开发能力，开发、测试和验收等流程的并行能力。提升项目本身的版本控制能力，尽量做到一个master版本对应一次发布版本。"
   ]
  },
  {
   "cell_type": "markdown",
   "metadata": {
    "slideshow": {
     "slide_type": "fragment"
    }
   },
   "source": [
    "##### Action（行动）\n",
    "###### 接入Gitflow分支管理模型\n",
    "![标准Gitflow分支管理模型](做好一次述职报告/标准Gitflow分支管理模型.png)\n",
    "\n",
    "###### 结合跑腿业务特点进行了适配调整\n",
    "![适配后的跑腿Gitflow分支管理模型](做好一次述职报告/适配后的跑腿Gitflow分支管理模型.svg)\n",
    "\n",
    "- 简化Feature分支：跑腿按照版本迭代，将基于功能点的Feature分支退化到基于迭代版本的Feature分支\n",
    "- 不同模型中的tag管理部分：备机创建rc-* tag，线上创建v* tag\n",
    "- 增加对code review的支持\n",
    "\n",
    "###### 基于分支管理的严格版本控制\n",
    "- 各个环节的tag管理\n",
    "- 提测前开发的code review\n",
    "- 发布备机前的code review\n",
    "- 发布线上前的code review"
   ]
  },
  {
   "cell_type": "markdown",
   "metadata": {
    "slideshow": {
     "slide_type": "fragment"
    }
   },
   "source": [
    "##### Result（结果）\n",
    "\n",
    "- 源码版本控制能力增强，可以从提测环节开始控制每一行代码变更。\n",
    "\n",
    "- 多人协作更加清晰，减少merge代码时conflicts带来的风险。\n",
    "\n",
    "- 更好支持多版本并行开发，支持多流程并行。\n",
    "\n",
    "- 支持更好的code review。"
   ]
  },
  {
   "cell_type": "markdown",
   "metadata": {
    "slideshow": {
     "slide_type": "slide"
    }
   },
   "source": [
    "## 展示\n",
    "\n",
    "展示环节用来将之前整理好的材料以Slides的形式进行演示的过程。一般需要制作Slides和最终演讲。"
   ]
  },
  {
   "cell_type": "markdown",
   "metadata": {
    "slideshow": {
     "slide_type": "subslide"
    }
   },
   "source": [
    "### 以终为始\n",
    "\n",
    "展示的目的在于通过展示工作内容获得认可，展示工作能力。  \n",
    "听众的注意力有限，需要尽可能直观、可视、结构化、重点突出。"
   ]
  },
  {
   "cell_type": "markdown",
   "metadata": {
    "slideshow": {
     "slide_type": "fragment"
    }
   },
   "source": [
    "#### 一些启发性问题\n",
    "\n",
    "- 碰到什么问题，业界是怎么解决的\n",
    "- 在这基础上做了些什么，相对业界的做法有什么优点\n",
    "- 过程中碰到什么难点，怎么解决，最终达到什么效果，有哪些数据支持这个结论\n",
    "- 碰到什么需求，业务特点是什么\n",
    "- 有哪些技术挑战(安全/架构/协作/性能/稳定性/历史包袱/响应能力/兼容性/开发效率/自动化等等)\n",
    "- 怎样设计的，设计方案有什么优点和创新点，最终达到什么效果，有哪些数据支撑这个结论\n",
    "- 思路尝试过哪些方法，深入到什么程度\n",
    "- 如果最终做法跟业界一样，有什么深入研究证明了这已经是最佳做法\n",
    "- 有哪些开源项目解决了这些问题，它们有什么缺陷\n",
    "- 重新造的轮子的好在哪里，获得这个好处的难点是什么，怎么解决的，哪些数据证明确实好"
   ]
  },
  {
   "cell_type": "markdown",
   "metadata": {
    "slideshow": {
     "slide_type": "subslide"
    }
   },
   "source": [
    "### 线索\n",
    "\n",
    "每页Slide需要主题明确。  \n",
    "连续Slide需要主线明确。  \n",
    "制作Slides时主要考虑的是演示效果，可以不必时刻强调STAR原则，会显得比较呆板。材料本身经过STAR原则组织后已经具备STAR原则所要求的结构化特征。  "
   ]
  },
  {
   "cell_type": "markdown",
   "metadata": {
    "slideshow": {
     "slide_type": "fragment"
    }
   },
   "source": [
    "#### 一些启发性问题\n",
    "\n",
    "- 这节的主线是什么\n",
    "- 这页内容的中心点是什么\n",
    "- 内容是否足够解释中心点\n",
    "- 重点是否突出\n",
    "- 是否偏离主线\n",
    "- 主次是否分明"
   ]
  },
  {
   "cell_type": "markdown",
   "metadata": {
    "slideshow": {
     "slide_type": "subslide"
    }
   },
   "source": [
    "### 结构\n",
    "\n",
    "整个Slides应该具备明确的总分结构。每个子环节具备明确的开始。"
   ]
  },
  {
   "cell_type": "markdown",
   "metadata": {
    "slideshow": {
     "slide_type": "subslide"
    }
   },
   "source": [
    "### 描述性文字\n",
    "\n",
    "善于提炼描述性文字。条分缕析，避免大段文本描述，尽量重点突出。"
   ]
  },
  {
   "cell_type": "markdown",
   "metadata": {
    "slideshow": {
     "slide_type": "subslide"
    }
   },
   "source": [
    "### 图表\n",
    "\n",
    "思考材料中哪些点可以图表化。  \n",
    "比如：\n",
    "- 架构图\n",
    "- 运行时序图\n",
    "- 流程图\n",
    "- 运行状态图"
   ]
  },
  {
   "cell_type": "markdown",
   "metadata": {
    "slideshow": {
     "slide_type": "subslide"
    }
   },
   "source": [
    "### 数据\n",
    "\n",
    "展示工作效果、影响、优化改进等时使用数据说话。  \n",
    "重点数据使用颜色，字体，字号等进行强调。  \n",
    "大量数据需要使用可视化的图标进行展示。  \n",
    "比如：\n",
    "- 走势图\n",
    "- 柱状对比图\n",
    "- 饼图\n",
    "- 雷达图\n",
    "- 热力图\n",
    "- 散点图"
   ]
  },
  {
   "cell_type": "markdown",
   "metadata": {
    "slideshow": {
     "slide_type": "slide"
    }
   },
   "source": [
    "# 案例\n",
    "\n",
    "可以参考“2018H1季度述职”。"
   ]
  }
 ],
 "metadata": {
  "celltoolbar": "Slideshow",
  "kernelspec": {
   "display_name": "Python 3",
   "language": "python",
   "name": "python3"
  },
  "language_info": {
   "codemirror_mode": {
    "name": "ipython",
    "version": 3
   },
   "file_extension": ".py",
   "mimetype": "text/x-python",
   "name": "python",
   "nbconvert_exporter": "python",
   "pygments_lexer": "ipython3",
   "version": "3.5.4"
  },
  "toc": {
   "base_numbering": 1,
   "nav_menu": {},
   "number_sections": false,
   "sideBar": true,
   "skip_h1_title": false,
   "title_cell": "Table of Contents",
   "title_sidebar": "Contents",
   "toc_cell": true,
   "toc_position": {},
   "toc_section_display": true,
   "toc_window_display": false
  }
 },
 "nbformat": 4,
 "nbformat_minor": 2
}
