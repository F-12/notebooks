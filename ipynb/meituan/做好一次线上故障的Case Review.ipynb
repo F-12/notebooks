{
 "cells": [
  {
   "cell_type": "markdown",
   "metadata": {
    "slideshow": {
     "slide_type": "slide"
    },
    "toc": true
   },
   "source": [
    "<h1>Table of Contents<span class=\"tocSkip\"></span></h1>\n",
    "<div class=\"toc\"><ul class=\"toc-item\"><li><span><a href=\"#引入\" data-toc-modified-id=\"引入-1\">引入</a></span></li><li><span><a href=\"#目标\" data-toc-modified-id=\"目标-2\">目标</a></span></li><li><span><a href=\"#方法\" data-toc-modified-id=\"方法-3\">方法</a></span><ul class=\"toc-item\"><li><span><a href=\"#故障描述\" data-toc-modified-id=\"故障描述-3.1\">故障描述</a></span></li><li><span><a href=\"#故障处理\" data-toc-modified-id=\"故障处理-3.2\">故障处理</a></span></li><li><span><a href=\"#故障影响\" data-toc-modified-id=\"故障影响-3.3\">故障影响</a></span></li><li><span><a href=\"#故障分析\" data-toc-modified-id=\"故障分析-3.4\">故障分析</a></span></li></ul></li><li><span><a href=\"#案例\" data-toc-modified-id=\"案例-4\">案例</a></span><ul class=\"toc-item\"><li><span><a href=\"#故障描述\" data-toc-modified-id=\"故障描述-4.1\">故障描述</a></span></li><li><span><a href=\"#故障处理\" data-toc-modified-id=\"故障处理-4.2\">故障处理</a></span></li><li><span><a href=\"#故障影响\" data-toc-modified-id=\"故障影响-4.3\">故障影响</a></span></li><li><span><a href=\"#故障分析\" data-toc-modified-id=\"故障分析-4.4\">故障分析</a></span></li><li><span><a href=\"#后续TODO\" data-toc-modified-id=\"后续TODO-4.5\">后续TODO</a></span></li></ul></li></ul></div>"
   ]
  },
  {
   "cell_type": "markdown",
   "metadata": {
    "slideshow": {
     "slide_type": "slide"
    }
   },
   "source": [
    "# 引入\n",
    "\n",
    "项目生命周期内，碰到线上故障是无法避免的事情。为了预防避免下一次严重线上故障，我们需要做好每次线上故障的Case Review。做好一个线上故障的Case Review既是为了向上级交代本次故障如何产生、如何解决、多大影响，也是为了反思自己、思考未来如何做得更好。"
   ]
  },
  {
   "cell_type": "markdown",
   "metadata": {
    "slideshow": {
     "slide_type": "slide"
    }
   },
   "source": [
    "# 目标\n",
    "\n",
    "- 复盘问题： 评估故障影响，反思本次出现线上故障的开发流程，发现存在的问题和疏漏。\n",
    "- 提炼经验： 总结复盘结果，总结经验，避免第二次犯同样的错误。\n",
    "- 总结TODO： 规划后续TODO，能够落地执行。"
   ]
  },
  {
   "cell_type": "markdown",
   "metadata": {
    "slideshow": {
     "slide_type": "slide"
    }
   },
   "source": [
    "# 方法\n",
    "\n",
    "一个好的Case Review应该至少包含如下方面：  \n",
    "\n",
    "- 故障描述\n",
    "- 故障处理\n",
    "- 故障影响\n",
    "- 故障分析\n",
    "\n",
    "下面逐项进行解释。"
   ]
  },
  {
   "cell_type": "markdown",
   "metadata": {
    "slideshow": {
     "slide_type": "slide"
    }
   },
   "source": [
    "## 故障描述\n",
    "\n",
    "这个节点应该简洁描述本次故障的具体情况。\n",
    "\n",
    "至少包括：  \n",
    "\n",
    "- 上报时间\n",
    "- 上报人\n",
    "- 复现环境\n",
    "- 复现方法"
   ]
  },
  {
   "cell_type": "markdown",
   "metadata": {
    "slideshow": {
     "slide_type": "slide"
    }
   },
   "source": [
    "## 故障处理\n",
    "\n",
    "这个节点应该按照时间轴描述本次故障发现后的处理过程。\n",
    "\n",
    "根据具体情况包括：  \n",
    "\n",
    "- 发现异常现象\n",
    "- 上报负责人\n",
    "- 排查链条\n",
    "- 涉及业务方沟通过程\n",
    "- 紧急处理方案\n",
    "- 处理结果"
   ]
  },
  {
   "cell_type": "markdown",
   "metadata": {
    "slideshow": {
     "slide_type": "slide"
    }
   },
   "source": [
    "## 故障影响\n",
    "\n",
    "故障紧急处理后，需要评估本次故障产生的具体影响。\n",
    "\n",
    "影响可以从一下维度思考：  \n",
    "\n",
    "- 受影响PV和UV：根据正常PV、UV和故障持续时间进行估算；根据日志或监控记录统计。\n",
    "- 受影响订单量：根据PV、UV和转换率数据估计损失单量；根据日志或监控进行统计。\n",
    "- 受影响交易额：根据估计单量和日均单价进行估算；根据日志进行统计。\n",
    "- 受影响业务方：有业务方依赖自己，需要统计受影响业务方。\n",
    "- 受影响渠道： 根据渠道区分影响。"
   ]
  },
  {
   "cell_type": "markdown",
   "metadata": {
    "slideshow": {
     "slide_type": "slide"
    }
   },
   "source": [
    "## 故障分析\n",
    "\n",
    "故障处理结束后，需要复盘整个链条，分析故障产生过程。\n",
    "\n",
    "分析可以从一下维度思考：  \n",
    "\n",
    "- 内部依赖方变更未同步\n",
    "- 代码修改副作用\n",
    "- 配置项变更\n",
    "- 上线携带了未测试代码\n",
    "- 外部依赖方策略调整\n",
    "- 网络问题\n",
    "- 受到攻击\n",
    "- 测试覆盖情况\n",
    "- code review情况\n",
    "\n",
    "具体操作时，可以问为什么，并进行解答。根据5why理论，至少问5个为什么，目的在于找到root cause。"
   ]
  },
  {
   "cell_type": "markdown",
   "metadata": {
    "slideshow": {
     "slide_type": "slide"
    }
   },
   "source": [
    "# 案例\n",
    "\n",
    "以下以跑腿小程序隐私号降级时无法拨打电话的线上故障进行案例讲解。"
   ]
  },
  {
   "cell_type": "markdown",
   "metadata": {
    "slideshow": {
     "slide_type": "subslide"
    }
   },
   "source": [
    "## 故障描述\n",
    "\n",
    "2018-06-06跑腿前端QA线上回归时，发现从美团app或外卖app下单，骑手接单后，隐私号降级的情况下，在小程序订单详情页点击拨打骑手号码按钮，弹出降级弹窗但是无法正常拨出真实号码。\n",
    "\n",
    "- 上报时间： 2018-06-06\n",
    "- 上报人 ：  前端QA\n",
    "- 复现环境： 美团app，外卖app，微信跑腿小程序\n",
    "- 复现方法： 从美团app或外卖app下单 -> 骑手接单后 -> 隐私号降级 -> 小程序订单详情页 -> 降级弹窗 -> 无法真实号码拨叫"
   ]
  },
  {
   "cell_type": "markdown",
   "metadata": {
    "slideshow": {
     "slide_type": "subslide"
    }
   },
   "source": [
    "## 故障处理\n",
    "\n",
    "- 2018-06-06 14:00 跑腿前端QA线上回归，发现问题。\n",
    "- 2018-06-06 14:15 前端QA上报PM和前端RD。\n",
    "- 2018-06-06 14:20 前端RD检查代码后确认存在代码逻辑缺陷。\n",
    "- 2018-06-06 14:22 前端RD给出临时解决方案，因为隐私号功能上线时存在灰度开关，设置隐私号功能灰度百分比为0.\n",
    "- 2018-06-06 14:30 前端RD和后端RD沟通，后端RD修改灰度比例配置\n",
    "- 2018-06-06 14:35 前端RD和PM沟通，决定组织hotfix发版修复。"
   ]
  },
  {
   "cell_type": "markdown",
   "metadata": {
    "slideshow": {
     "slide_type": "subslide"
    }
   },
   "source": [
    "## 故障影响\n",
    "\n",
    "- 2018-06-04 16:00 完成隐私号功能上线，到 2018-06-06 14:30 临时处理，故障在线上存在时间46.5h。\n",
    "- 隐私号功能上线到发现问题灰度比例设置10% \n",
    "- 根据流量统计平台查询结果，隐私号功能目前PV和UV为0"
   ]
  },
  {
   "cell_type": "markdown",
   "metadata": {
    "slideshow": {
     "slide_type": "subslide"
    }
   },
   "source": [
    "## 故障分析\n",
    "\n",
    "根据5why理论，对于一个问题能够连续追问5个为什么，一般会找到root cause。对于一个故障，我们可以借鉴这个理论，追问至少5个为什么。"
   ]
  },
  {
   "cell_type": "markdown",
   "metadata": {
    "slideshow": {
     "slide_type": "fragment"
    }
   },
   "source": [
    "- Q: 错误原因时什么？  \n",
    "\n",
    "    前端使用隐私号组件时传递的参数名错误。"
   ]
  },
  {
   "cell_type": "markdown",
   "metadata": {
    "slideshow": {
     "slide_type": "fragment"
    }
   },
   "source": [
    "- Q: 为什么QA环节没有覆盖到？  \n",
    "\n",
    "     测试时功能是正确的，但是提测结束后进行埋点代码开发时，做了修改。埋点验收时没有进行功能测试。"
   ]
  },
  {
   "cell_type": "markdown",
   "metadata": {
    "slideshow": {
     "slide_type": "fragment"
    }
   },
   "source": [
    "- Q: 为什么Code Review没有发现？  \n",
    "\n",
    "    Code Review时重点关注的js代码，出问题的代码存在与wxml中，没有逐行review。"
   ]
  },
  {
   "cell_type": "markdown",
   "metadata": {
    "slideshow": {
     "slide_type": "fragment"
    }
   },
   "source": [
    "\n",
    "- Q: 为什么备机回归没有发现？  \n",
    "\n",
    "    降级功能属于测试环节全功能测试时覆盖范围，备机回归只回归主流程，隐私号降级不属于备机回归内容。"
   ]
  },
  {
   "cell_type": "markdown",
   "metadata": {
    "slideshow": {
     "slide_type": "fragment"
    }
   },
   "source": [
    "\n",
    "- Q: 为什么发现问题在上线2d后？  \n",
    "\n",
    "    线上回归也是只回归主流程，本次发现问题时是因为需要做隐私号业务降级，所以发现了。"
   ]
  },
  {
   "cell_type": "markdown",
   "metadata": {
    "slideshow": {
     "slide_type": "fragment"
    }
   },
   "source": [
    "\n",
    "- 为什么在提测环节之后还有开发？  \n",
    "\n",
    "    因为埋点需求一般是在提测第一天进行评审，埋点开发是和提测同步进行的。"
   ]
  },
  {
   "cell_type": "markdown",
   "metadata": {
    "slideshow": {
     "slide_type": "subslide"
    }
   },
   "source": [
    "## 后续TODO\n",
    "\n",
    "- 埋点评审提前至联调第一天，埋点开发提前到提测之前，保证提测完整性。\n",
    "- 埋点测试和功能测试一起进行。\n",
    "- Code Review覆盖所有修改。"
   ]
  }
 ],
 "metadata": {
  "celltoolbar": "Slideshow",
  "kernelspec": {
   "display_name": "Python 3",
   "language": "python",
   "name": "python3"
  },
  "language_info": {
   "codemirror_mode": {
    "name": "ipython",
    "version": 3
   },
   "file_extension": ".py",
   "mimetype": "text/x-python",
   "name": "python",
   "nbconvert_exporter": "python",
   "pygments_lexer": "ipython3",
   "version": "3.5.4"
  },
  "toc": {
   "base_numbering": 1,
   "nav_menu": {},
   "number_sections": false,
   "sideBar": true,
   "skip_h1_title": false,
   "title_cell": "Table of Contents",
   "title_sidebar": "Contents",
   "toc_cell": true,
   "toc_position": {},
   "toc_section_display": true,
   "toc_window_display": false
  }
 },
 "nbformat": 4,
 "nbformat_minor": 2
}
