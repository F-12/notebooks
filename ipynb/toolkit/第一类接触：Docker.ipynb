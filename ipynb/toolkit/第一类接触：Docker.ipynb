{
 "cells": [
  {
   "cell_type": "markdown",
   "metadata": {
    "toc": true
   },
   "source": [
    "<h1>Table of Contents<span class=\"tocSkip\"></span></h1>\n",
    "<div class=\"toc\"><ul class=\"toc-item\"><li><span><a href=\"#背景\" data-toc-modified-id=\"背景-1\">背景</a></span><ul class=\"toc-item\"><li><span><a href=\"#软件运行时的环境配置\" data-toc-modified-id=\"软件运行时的环境配置-1.1\">软件运行时的环境配置</a></span></li><li><span><a href=\"#虚拟机技术\" data-toc-modified-id=\"虚拟机技术-1.2\">虚拟机技术</a></span></li><li><span><a href=\"#LXC技术\" data-toc-modified-id=\"LXC技术-1.3\">LXC技术</a></span></li></ul></li><li><span><a href=\"#Docker\" data-toc-modified-id=\"Docker-2\">Docker</a></span><ul class=\"toc-item\"><li><span><a href=\"#Overview\" data-toc-modified-id=\"Overview-2.1\">Overview</a></span></li><li><span><a href=\"#Concept\" data-toc-modified-id=\"Concept-2.2\">Concept</a></span><ul class=\"toc-item\"><li><span><a href=\"#Containerization\" data-toc-modified-id=\"Containerization-2.2.1\">Containerization</a></span></li><li><span><a href=\"#Image\" data-toc-modified-id=\"Image-2.2.2\">Image</a></span></li><li><span><a href=\"#Container\" data-toc-modified-id=\"Container-2.2.3\">Container</a></span></li></ul></li></ul></li></ul></div>"
   ]
  },
  {
   "cell_type": "markdown",
   "metadata": {},
   "source": [
    "# 背景"
   ]
  },
  {
   "cell_type": "markdown",
   "metadata": {},
   "source": [
    "## 软件运行时的环境配置\n",
    "\n",
    "Docker可以帮助解决环境配置的难题。\n",
    "\n",
    "解决思路是：带环境安装。"
   ]
  },
  {
   "cell_type": "markdown",
   "metadata": {},
   "source": [
    "## 虚拟机技术\n",
    "\n",
    "虚拟机也是一种带环境安装的解决方案。\n",
    "\n",
    "虚拟机的技术思路：通过软件模拟整个操作系统。\n",
    "\n",
    "虚拟机技术的缺点：\n",
    "1. 资源占用多\n",
    "2. 启动慢"
   ]
  },
  {
   "cell_type": "markdown",
   "metadata": {},
   "source": [
    "## LXC技术\n",
    "\n",
    "LXC即Linux Container，是另一种虚拟化技术。\n",
    "\n",
    "LXC的技术思路：进程隔离。\n",
    "\n",
    "LXC相对于虚拟机技术的优先：\n",
    "1. 进程级别虚拟化\n",
    "2. 启动快\n",
    "3. 占用资源少（内存，磁盘）"
   ]
  },
  {
   "cell_type": "markdown",
   "metadata": {},
   "source": [
    "# Docker"
   ]
  },
  {
   "cell_type": "markdown",
   "metadata": {},
   "source": [
    "## Overview\n",
    "\n",
    "Docker是基于LXC技术的虚拟化技术。\n",
    "\n",
    "[这里](https://docs.docker.com/get-started/#docker-concepts)\n",
    "\n",
    "> Docker is a platform for developers and sysadmins to develop, deploy, and run applications with containers. \n",
    "\n",
    "给出了一个关于Docker的定义。"
   ]
  },
  {
   "cell_type": "markdown",
   "metadata": {},
   "source": [
    "## Concept"
   ]
  },
  {
   "cell_type": "markdown",
   "metadata": {},
   "source": [
    "### Containerization\n",
    "容器化技术的优点：\n",
    "- Flexible\n",
    "- Lightweight\n",
    "- Interchangeable\n",
    "- Portable\n",
    "- Scalable\n",
    "- Stackable"
   ]
  },
  {
   "cell_type": "markdown",
   "metadata": {},
   "source": [
    "### Image\n",
    "\n",
    "executable package。\n",
    "\n",
    "包括：\n",
    "- code\n",
    "- runtime\n",
    "- configuration\n",
    "- libs\n",
    "- environment variables"
   ]
  },
  {
   "cell_type": "markdown",
   "metadata": {},
   "source": [
    "### Container\n",
    "\n",
    "a runtime instance of an image-"
   ]
  },
  {
   "cell_type": "markdown",
   "metadata": {},
   "source": [
    "### Swarm\n",
    "\n"
   ]
  },
  {
   "cell_type": "markdown",
   "metadata": {},
   "source": [
    "### Swarm Manager"
   ]
  }
 ],
 "metadata": {
  "kernelspec": {
   "display_name": "Python 3",
   "language": "python",
   "name": "python3"
  },
  "language_info": {
   "codemirror_mode": {
    "name": "ipython",
    "version": 3
   },
   "file_extension": ".py",
   "mimetype": "text/x-python",
   "name": "python",
   "nbconvert_exporter": "python",
   "pygments_lexer": "ipython3",
   "version": "3.6.5"
  },
  "toc": {
   "base_numbering": 1,
   "nav_menu": {},
   "number_sections": false,
   "sideBar": true,
   "skip_h1_title": false,
   "title_cell": "Table of Contents",
   "title_sidebar": "Contents",
   "toc_cell": true,
   "toc_position": {},
   "toc_section_display": true,
   "toc_window_display": false
  }
 },
 "nbformat": 4,
 "nbformat_minor": 2
}
