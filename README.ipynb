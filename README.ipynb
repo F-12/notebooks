{
 "cells": [
  {
   "cell_type": "markdown",
   "metadata": {
    "slideshow": {
     "slide_type": "slide"
    }
   },
   "source": [
    "\n",
    "![cover](README/smily_face_2-wallpaper-2560x1600.jpg)"
   ]
  },
  {
   "cell_type": "markdown",
   "metadata": {
    "slideshow": {
     "slide_type": "slide"
    },
    "toc": true
   },
   "source": [
    "<h1>Table of Contents<span class=\"tocSkip\"></span></h1>\n",
    "<div class=\"toc\"><ul class=\"toc-item\"><li><span><a href=\"#概述\" data-toc-modified-id=\"概述-1\"><span class=\"toc-item-num\">1&nbsp;&nbsp;</span>概述</a></span></li><li><span><a href=\"#写作环境\" data-toc-modified-id=\"写作环境-2\"><span class=\"toc-item-num\">2&nbsp;&nbsp;</span>写作环境</a></span><ul class=\"toc-item\"><li><span><a href=\"#notebook基础\" data-toc-modified-id=\"notebook基础-2.1\"><span class=\"toc-item-num\">2.1&nbsp;&nbsp;</span>notebook基础</a></span></li><li><span><a href=\"#notebook扩展\" data-toc-modified-id=\"notebook扩展-2.2\"><span class=\"toc-item-num\">2.2&nbsp;&nbsp;</span>notebook扩展</a></span></li></ul></li><li><span><a href=\"#notebook规范\" data-toc-modified-id=\"notebook规范-3\"><span class=\"toc-item-num\">3&nbsp;&nbsp;</span>notebook规范</a></span><ul class=\"toc-item\"><li><span><a href=\"#组织\" data-toc-modified-id=\"组织-3.1\"><span class=\"toc-item-num\">3.1&nbsp;&nbsp;</span>组织</a></span></li><li><span><a href=\"#资源\" data-toc-modified-id=\"资源-3.2\"><span class=\"toc-item-num\">3.2&nbsp;&nbsp;</span>资源</a></span></li><li><span><a href=\"#目录\" data-toc-modified-id=\"目录-3.3\"><span class=\"toc-item-num\">3.3&nbsp;&nbsp;</span>目录</a></span></li><li><span><a href=\"#章节\" data-toc-modified-id=\"章节-3.4\"><span class=\"toc-item-num\">3.4&nbsp;&nbsp;</span>章节</a></span></li><li><span><a href=\"#引用\" data-toc-modified-id=\"引用-3.5\"><span class=\"toc-item-num\">3.5&nbsp;&nbsp;</span>引用</a></span></li></ul></li><li><span><a href=\"#元素\" data-toc-modified-id=\"元素-4\"><span class=\"toc-item-num\">4&nbsp;&nbsp;</span>元素</a></span><ul class=\"toc-item\"><li><span><a href=\"#图片资源\" data-toc-modified-id=\"图片资源-4.1\"><span class=\"toc-item-num\">4.1&nbsp;&nbsp;</span>图片资源</a></span></li><li><span><a href=\"#代码\" data-toc-modified-id=\"代码-4.2\"><span class=\"toc-item-num\">4.2&nbsp;&nbsp;</span>代码</a></span><ul class=\"toc-item\"><li><span><a href=\"#Python代码\" data-toc-modified-id=\"Python代码-4.2.1\"><span class=\"toc-item-num\">4.2.1&nbsp;&nbsp;</span>Python代码</a></span></li><li><span><a href=\"#node.js代码\" data-toc-modified-id=\"node.js代码-4.2.2\"><span class=\"toc-item-num\">4.2.2&nbsp;&nbsp;</span>node.js代码</a></span></li></ul></li></ul></li><li><span><a href=\"#展示\" data-toc-modified-id=\"展示-5\"><span class=\"toc-item-num\">5&nbsp;&nbsp;</span>展示</a></span><ul class=\"toc-item\"><li><span><a href=\"#Slides视图\" data-toc-modified-id=\"Slides视图-5.1\"><span class=\"toc-item-num\">5.1&nbsp;&nbsp;</span>Slides视图</a></span></li><li><span><a href=\"#静态Slides\" data-toc-modified-id=\"静态Slides-5.2\"><span class=\"toc-item-num\">5.2&nbsp;&nbsp;</span>静态Slides</a></span></li><li><span><a href=\"#自定义\" data-toc-modified-id=\"自定义-5.3\"><span class=\"toc-item-num\">5.3&nbsp;&nbsp;</span>自定义</a></span></li></ul></li><li><span><a href=\"#发布\" data-toc-modified-id=\"发布-6\"><span class=\"toc-item-num\">6&nbsp;&nbsp;</span>发布</a></span><ul class=\"toc-item\"><li><span><a href=\"#发布到Github\" data-toc-modified-id=\"发布到Github-6.1\"><span class=\"toc-item-num\">6.1&nbsp;&nbsp;</span>发布到Github</a></span></li><li><span><a href=\"#发布到Github-Pages\" data-toc-modified-id=\"发布到Github-Pages-6.2\"><span class=\"toc-item-num\">6.2&nbsp;&nbsp;</span>发布到Github Pages</a></span></li><li><span><a href=\"#发布文章\" data-toc-modified-id=\"发布文章-6.3\"><span class=\"toc-item-num\">6.3&nbsp;&nbsp;</span>发布文章</a></span></li><li><span><a href=\"#发布Slides\" data-toc-modified-id=\"发布Slides-6.4\"><span class=\"toc-item-num\">6.4&nbsp;&nbsp;</span>发布Slides</a></span></li></ul></li></ul></div>"
   ]
  },
  {
   "cell_type": "markdown",
   "metadata": {
    "slideshow": {
     "slide_type": "slide"
    }
   },
   "source": [
    "# 概述"
   ]
  },
  {
   "cell_type": "markdown",
   "metadata": {
    "slideshow": {
     "slide_type": "subslide"
    }
   },
   "source": [
    "这个仓库用来实践使用jupyter notebook作为写作平台的方法。  \n",
    "本文用来描述实践过程中总结的完整方法体系。  \n",
    "具体内容包括写作环境的搭建及配置、博客写作规范、各类元素的使用方法、将文章转换成展示用的slide方法、部署写作平台的方法等。  "
   ]
  },
  {
   "cell_type": "markdown",
   "metadata": {
    "slideshow": {
     "slide_type": "slide"
    }
   },
   "source": [
    "# 写作环境\n",
    "\n",
    "- [jupyter notebook](https://jupyter-notebook.readthedocs.io/en/stable/)\n",
    "- [ipython-contrib/jupyter_contrib_nbextensions](https://github.com/ipython-contrib/jupyter_contrib_nbextensions)"
   ]
  },
  {
   "cell_type": "markdown",
   "metadata": {
    "slideshow": {
     "slide_type": "subslide"
    }
   },
   "source": [
    "## notebook基础\n",
    "\n",
    "参考[installation guide](https://jupyter.readthedocs.io/en/latest/install.html#install)进行安装。  \n",
    "[这里](https://jupyter-notebook.readthedocs.io/en/stable/notebook.html#introduction)介绍了notebook的基本情况。"
   ]
  },
  {
   "cell_type": "markdown",
   "metadata": {
    "slideshow": {
     "slide_type": "subslide"
    }
   },
   "source": [
    "## notebook扩展\n",
    "\n",
    "参考[这里](http://jupyter-contrib-nbextensions.readthedocs.io/en/latest/install.html)安装jupyter_contrib_nbextensions。  \n",
    "安装时主要包括如下三步：\n",
    "- 安装packages\n",
    "- 安装js和css文件\n",
    "- 重启jupyter\n",
    "\n",
    "安装结束后，访问\n",
    "```\n",
    "http://localhost:8000/nbextensions\n",
    "```\n",
    "进入扩展管理后台。  \n",
    "[这里](http://jupyter-contrib-nbextensions.readthedocs.io/en/latest/nbextensions.html)介绍了包含的扩展的具体信息。  "
   ]
  },
  {
   "cell_type": "markdown",
   "metadata": {
    "slideshow": {
     "slide_type": "slide"
    }
   },
   "source": [
    "# notebook规范"
   ]
  },
  {
   "cell_type": "markdown",
   "metadata": {
    "slideshow": {
     "slide_type": "subslide"
    }
   },
   "source": [
    "## 组织\n",
    "\n",
    "除[README.ipynb](README.ipynb)和[index.ipynb](index.ipynb)外，其他notebook必须存放与ipynb中。  \n",
    "根据notebook生成的html渲染版本和slides渲染版本存放于generated目录下。  \n",
    "ipynb可以根据分类创建子目录进行组织，同时generated目录需要与ipynb目录保持结构的镜像关系。  \n",
    "generated目录下的每个子目录中可以使用软连接引用仓库根目录下的reveal.js，保证该子目录下的slides版本可以使用。  "
   ]
  },
  {
   "cell_type": "markdown",
   "metadata": {
    "slideshow": {
     "slide_type": "subslide"
    }
   },
   "source": [
    "## 资源\n",
    "\n",
    "一个文章以一个notebook的形式表现。  \n",
    "文件系统中创建一个和notebook同名的目录，用来管理notebook中使用的资源。  \n",
    "文章中只使用相对路径引用此目录下的资源。  \n",
    "禁止使用绝对路径引用文件系统中的资源。  \n",
    "减少使用绝对路径引用网络资源，避免一段时间后资源不存在的情况。"
   ]
  },
  {
   "cell_type": "markdown",
   "metadata": {
    "slideshow": {
     "slide_type": "subslide"
    }
   },
   "source": [
    "## 目录\n",
    "\n",
    "每个notebook都在开始部分插入一个目录的Cell，方便读者了解文章的大纲。  \n",
    "文章的目录可以使用Table of Contents扩展生成。  \n",
    "![Table of Contents Extension](README/table_of_contents_extension.png)"
   ]
  },
  {
   "cell_type": "markdown",
   "metadata": {
    "slideshow": {
     "slide_type": "subslide"
    }
   },
   "source": [
    "## 章节\n",
    "\n",
    "每个章节使用独立的cell。这样编辑时可以做到相对独立编辑特定cell，保持其他cell的渲染状态。"
   ]
  },
  {
   "cell_type": "markdown",
   "metadata": {
    "slideshow": {
     "slide_type": "subslide"
    }
   },
   "source": [
    "## 引用\n",
    "\n",
    "notebook中使用到的引用到的外部资源需要创建独立cell进行标注。  "
   ]
  },
  {
   "cell_type": "markdown",
   "metadata": {
    "slideshow": {
     "slide_type": "slide"
    }
   },
   "source": [
    "# 元素"
   ]
  },
  {
   "cell_type": "markdown",
   "metadata": {
    "slideshow": {
     "slide_type": "subslide"
    }
   },
   "source": [
    "## 图片资源\n",
    "Markdown cell中使用图片引用语法`![Alt Text](Image Path)`。这种方法引用的图片可以直接渲染在结果文档中。可以参考本文的封面图。"
   ]
  },
  {
   "cell_type": "markdown",
   "metadata": {
    "slideshow": {
     "slide_type": "subslide"
    }
   },
   "source": [
    "## 代码\n",
    "\n",
    "演示类代码一般需要包含源码和源码执行结果。这个是jupyter notebooks的强项。"
   ]
  },
  {
   "cell_type": "markdown",
   "metadata": {
    "slideshow": {
     "slide_type": "subslide"
    }
   },
   "source": [
    "### Python代码"
   ]
  },
  {
   "cell_type": "code",
   "execution_count": 1,
   "metadata": {
    "slideshow": {
     "slide_type": "subslide"
    }
   },
   "outputs": [
    {
     "data": {
      "image/png": "[encoded data removed]",
      "text/plain": [
       "<matplotlib.figure.Figure at 0x10f6c2ba8>"
      ]
     },
     "metadata": {},
     "output_type": "display_data"
    }
   ],
   "source": [
    "import matplotlib.pylab as plt\n",
    "import numpy as np\n",
    "x = np.linspace(-np.pi, np.pi, 201)\n",
    "plt.plot(x, np.sin(x))\n",
    "plt.xlabel('Angle [rad]')\n",
    "plt.ylabel('sin(x)')\n",
    "plt.axis('tight')\n",
    "plt.show()"
   ]
  },
  {
   "cell_type": "markdown",
   "metadata": {
    "slideshow": {
     "slide_type": "subslide"
    }
   },
   "source": [
    "### node.js代码"
   ]
  },
  {
   "cell_type": "code",
   "execution_count": 1,
   "metadata": {
    "slideshow": {
     "slide_type": "subslide"
    }
   },
   "outputs": [
    {
     "data": {
      "text/plain": [
       "undefined"
      ]
     },
     "execution_count": 1,
     "metadata": {},
     "output_type": "execute_result"
    },
    {
     "name": "stdout",
     "output_type": "stream",
     "text": [
      "{ dev: 16777221,\n",
      "  mode: 33188,\n",
      "  nlink: 1,\n",
      "  uid: 501,\n",
      "  gid: 20,\n",
      "  rdev: 0,\n",
      "  blksize: 4194304,\n",
      "  ino: 8616215030,\n",
      "  size: 31144,\n",
      "  blocks: 64,\n",
      "  atime: 2018-07-21T16:33:04.118Z,\n",
      "  mtime: 2018-07-21T16:32:50.871Z,\n",
      "  ctime: 2018-07-21T16:32:50.871Z,\n",
      "  birthtime: 2018-07-20T04:38:08.808Z }\n"
     ]
    }
   ],
   "source": [
    "const fs = require('fs')\n",
    "fs.stat('./README.ipynb', function(err, stat) {\n",
    "    console.log(stat);\n",
    "})"
   ]
  },
  {
   "cell_type": "markdown",
   "metadata": {
    "slideshow": {
     "slide_type": "slide"
    }
   },
   "source": [
    "# 展示"
   ]
  },
  {
   "cell_type": "markdown",
   "metadata": {
    "slideshow": {
     "slide_type": "subslide"
    }
   },
   "source": [
    "## Slides视图\n",
    "使用jupyter notebook可以很方便的生成演示用的slides。  \n",
    "参考[这里](https://damianavila.github.io/RISE/installation.html)安装RISE扩展。  \n",
    "安装完成后重启jupyter。  \n",
    "重新打开jupyter notebook后，可以在工具栏上看到对应按钮：  \n",
    "![view as slide](README/view_as_slide_button.png)"
   ]
  },
  {
   "cell_type": "markdown",
   "metadata": {
    "slideshow": {
     "slide_type": "subslide"
    }
   },
   "source": [
    "## 静态Slides\n",
    "Slides视图提供的Slides版本是需要jupyter作为服务器进行host的。RISE提供的生成Slides的功能基于Reveal.js，使用下图所示菜单项   \n",
    "![Download as Slides](README/download_as_slides.png)  \n",
    "将notebook生成可以配合reveal.js使用的html文件。然后将此html文件放在reveal.js同级目录下，打开此html时即可使用生成的静态Slides。"
   ]
  },
  {
   "cell_type": "markdown",
   "metadata": {
    "slideshow": {
     "slide_type": "subslide"
    }
   },
   "source": [
    "## 自定义\n",
    "\n",
    "默认皮肤看腻了，可以使用[RISE提供的方法](https://damianavila.github.io/RISE/customize.html)进行自定义。  \n",
    "目前RISE生成slides的工具有bug，自定义主题的背景色等都是不正确的。\n",
    "\n",
    "- [ ] 进一步研究RISE生成原理\n",
    "- [ ] Reveal.js的自定义配置\n",
    "- [ ] notebook中如何配置Reveal.js"
   ]
  },
  {
   "cell_type": "markdown",
   "metadata": {
    "slideshow": {
     "slide_type": "slide"
    }
   },
   "source": [
    "# 发布"
   ]
  },
  {
   "cell_type": "markdown",
   "metadata": {
    "slideshow": {
     "slide_type": "subslide"
    }
   },
   "source": [
    "## 发布到Github\n",
    "完成Commit后，直接push到github上对应的Repository，从github上打开对应的notebook时会自动渲染成最终结果。  \n",
    "如下图所示：  \n",
    "![Rendered By Github](README/rendered_by_github.png)"
   ]
  },
  {
   "cell_type": "markdown",
   "metadata": {},
   "source": [
    "## 发布到Github Pages\n",
    "\n",
    "使用github repository settings创建代码仓库的gitub pages。根目录下创建index.html作为站点的首页。创建结果参见[这里](index.html)"
   ]
  },
  {
   "cell_type": "markdown",
   "metadata": {
    "slideshow": {
     "slide_type": "subslide"
    }
   },
   "source": [
    "## 发布文章\n",
    "\n",
    "- [ ] 构建静态文章的流程和工程布局\n",
    "- [ ] 批量生成静态文章的脚本工具"
   ]
  },
  {
   "cell_type": "markdown",
   "metadata": {
    "slideshow": {
     "slide_type": "subslide"
    }
   },
   "source": [
    "## 发布Slides\n",
    "\n",
    "- [ ] 构建Slides的流程和工程布局\n",
    "- [ ] 批量生成静态Slides的脚本工具\n",
    "- [ ] 接入新的自定义主题\n",
    "- [ ] 文章和Slides的自动关联"
   ]
  }
 ],
 "metadata": {
  "celltoolbar": "Slideshow",
  "kernelspec": {
   "display_name": "Javascript (Node.js)",
   "language": "javascript",
   "name": "javascript"
  },
  "language_info": {
   "file_extension": ".js",
   "mimetype": "application/javascript",
   "name": "javascript",
   "version": "6.9.5"
  },
  "livereveal": {
   "scroll": true
  },
  "toc": {
   "base_numbering": 1,
   "nav_menu": {
    "height": "289px",
    "width": "294px"
   },
   "number_sections": true,
   "sideBar": true,
   "skip_h1_title": false,
   "title_cell": "Table of Contents",
   "title_sidebar": "Contents",
   "toc_cell": true,
   "toc_position": {},
   "toc_section_display": true,
   "toc_window_display": false
  }
 },
 "nbformat": 4,
 "nbformat_minor": 2
}
