{
 "cells": [
  {
   "cell_type": "markdown",
   "metadata": {
    "slideshow": {
     "slide_type": "skip"
    },
    "toc": true
   },
   "source": [
    "<h1>Table of Contents<span class=\"tocSkip\"></span></h1>\n",
    "<div class=\"toc\"><ul class=\"toc-item\"><li><span><a href=\"#概述\" data-toc-modified-id=\"概述-1\"><span class=\"toc-item-num\">1&nbsp;&nbsp;</span>概述</a></span></li><li><span><a href=\"#写作环境\" data-toc-modified-id=\"写作环境-2\"><span class=\"toc-item-num\">2&nbsp;&nbsp;</span>写作环境</a></span><ul class=\"toc-item\"><li><span><a href=\"#notebook基础\" data-toc-modified-id=\"notebook基础-2.1\"><span class=\"toc-item-num\">2.1&nbsp;&nbsp;</span>notebook基础</a></span></li><li><span><a href=\"#notebook扩展\" data-toc-modified-id=\"notebook扩展-2.2\"><span class=\"toc-item-num\">2.2&nbsp;&nbsp;</span>notebook扩展</a></span></li></ul></li><li><span><a href=\"#博客规范\" data-toc-modified-id=\"博客规范-3\"><span class=\"toc-item-num\">3&nbsp;&nbsp;</span>博客规范</a></span><ul class=\"toc-item\"><li><span><a href=\"#组织\" data-toc-modified-id=\"组织-3.1\"><span class=\"toc-item-num\">3.1&nbsp;&nbsp;</span>组织</a></span></li><li><span><a href=\"#目录\" data-toc-modified-id=\"目录-3.2\"><span class=\"toc-item-num\">3.2&nbsp;&nbsp;</span>目录</a></span></li><li><span><a href=\"#章节\" data-toc-modified-id=\"章节-3.3\"><span class=\"toc-item-num\">3.3&nbsp;&nbsp;</span>章节</a></span></li></ul></li><li><span><a href=\"#元素\" data-toc-modified-id=\"元素-4\"><span class=\"toc-item-num\">4&nbsp;&nbsp;</span>元素</a></span><ul class=\"toc-item\"><li><span><a href=\"#图片资源\" data-toc-modified-id=\"图片资源-4.1\"><span class=\"toc-item-num\">4.1&nbsp;&nbsp;</span>图片资源</a></span></li></ul></li><li><span><a href=\"#展示\" data-toc-modified-id=\"展示-5\"><span class=\"toc-item-num\">5&nbsp;&nbsp;</span>展示</a></span><ul class=\"toc-item\"><li><span><a href=\"#生成PPT\" data-toc-modified-id=\"生成PPT-5.1\"><span class=\"toc-item-num\">5.1&nbsp;&nbsp;</span>生成PPT</a></span></li><li><span><a href=\"#自定义\" data-toc-modified-id=\"自定义-5.2\"><span class=\"toc-item-num\">5.2&nbsp;&nbsp;</span>自定义</a></span></li></ul></li><li><span><a href=\"#部署发布\" data-toc-modified-id=\"部署发布-6\"><span class=\"toc-item-num\">6&nbsp;&nbsp;</span>部署发布</a></span></li></ul></div>"
   ]
  },
  {
   "cell_type": "markdown",
   "metadata": {
    "slideshow": {
     "slide_type": "slide"
    }
   },
   "source": [
    "\n",
    "![cover](README/smily_face_2-wallpaper-2560x1600.jpg)"
   ]
  },
  {
   "cell_type": "markdown",
   "metadata": {
    "slideshow": {
     "slide_type": "slide"
    }
   },
   "source": [
    "# 概述\n",
    "\n",
    "这个仓库用来实践使用jupyter notebook作为写作平台的方法。  \n",
    "本文用来描述实践过程中总结的完整方法体系。  \n",
    "具体内容包括写作环境的搭建及配置、博客写作规范、各类元素的使用方法、将文章转换成展示用的slide方法、部署写作平台的方法等。  "
   ]
  },
  {
   "cell_type": "markdown",
   "metadata": {
    "slideshow": {
     "slide_type": "slide"
    }
   },
   "source": [
    "# 写作环境\n",
    "\n",
    "- [jupyter notebook](https://jupyter-notebook.readthedocs.io/en/stable/)\n",
    "- [ipython-contrib/jupyter_contrib_nbextensions](https://github.com/ipython-contrib/jupyter_contrib_nbextensions)"
   ]
  },
  {
   "cell_type": "markdown",
   "metadata": {
    "slideshow": {
     "slide_type": "subslide"
    }
   },
   "source": [
    "## notebook基础\n",
    "\n",
    "参考[installation guide](https://jupyter.readthedocs.io/en/latest/install.html#install)进行安装。  \n",
    "[这里](https://jupyter-notebook.readthedocs.io/en/stable/notebook.html#introduction)介绍了notebook的基本情况。"
   ]
  },
  {
   "cell_type": "markdown",
   "metadata": {
    "slideshow": {
     "slide_type": "subslide"
    }
   },
   "source": [
    "## notebook扩展\n",
    "\n",
    "参考[这里](http://jupyter-contrib-nbextensions.readthedocs.io/en/latest/install.html)安装jupyter_contrib_nbextensions。  \n",
    "安装时主要包括如下三步：\n",
    "- 安装packages\n",
    "- 安装js和css文件\n",
    "- 重启jupyter\n",
    "\n",
    "[这里](http://jupyter-contrib-nbextensions.readthedocs.io/en/latest/nbextensions.html)介绍了包含的扩展的具体信息。  \n",
    "推荐使用如下扩展：  \n",
    "- Table of Contents: 用来给文档生成目录\n",
    "- RISE: 用来生成基于Reveal.js的演示slide\n"
   ]
  },
  {
   "cell_type": "markdown",
   "metadata": {
    "slideshow": {
     "slide_type": "slide"
    }
   },
   "source": [
    "# 博客规范"
   ]
  },
  {
   "cell_type": "markdown",
   "metadata": {
    "slideshow": {
     "slide_type": "subslide"
    }
   },
   "source": [
    "## 组织\n",
    "\n",
    "一个文章以一个notebook的形式表现。  \n",
    "文件系统中创建一个和notebook同名的目录，用来管理notebook中使用的资源。  \n",
    "文章中只使用相对路径引用此目录下的资源。  \n",
    "禁止使用绝对路径引用文件系统中的资源。  \n",
    "减少使用绝对路径引用网络资源，避免一段时间后资源不存在的情况。"
   ]
  },
  {
   "cell_type": "markdown",
   "metadata": {
    "slideshow": {
     "slide_type": "subslide"
    }
   },
   "source": [
    "## 目录\n",
    "\n",
    "文章的目录使用Table of Contents插件生成。  \n",
    "每个notebook都会在开始部分插入一个目录的Cell，方便读者了解文章的大纲。"
   ]
  },
  {
   "cell_type": "markdown",
   "metadata": {
    "slideshow": {
     "slide_type": "subslide"
    }
   },
   "source": [
    "## 章节\n",
    "\n",
    "每个章节使用独立的cell。这样编辑时可以做到相对独立编辑特定cell，保持其他cell的渲染状态。"
   ]
  },
  {
   "cell_type": "markdown",
   "metadata": {
    "slideshow": {
     "slide_type": "slide"
    }
   },
   "source": [
    "# 元素"
   ]
  },
  {
   "cell_type": "markdown",
   "metadata": {
    "slideshow": {
     "slide_type": "subslide"
    }
   },
   "source": [
    "## 图片资源\n",
    "Markdown cell中使用图片引用语法`![Alt Text](Image Path)`。这种方法引用的图片可以直接渲染在结果文档中。可以参考本文的封面图。"
   ]
  },
  {
   "cell_type": "markdown",
   "metadata": {
    "slideshow": {
     "slide_type": "slide"
    }
   },
   "source": [
    "# 展示"
   ]
  },
  {
   "cell_type": "markdown",
   "metadata": {
    "slideshow": {
     "slide_type": "subslide"
    }
   },
   "source": [
    "## 生成PPT\n",
    "使用jupyter notebook可以很方便的生成演示用的slide。  \n",
    "参考[这里](https://damianavila.github.io/RISE/installation.html)安装RISE扩展。  \n",
    "安装完成后重启jupyter。  \n",
    "重新打开jupyter notebook后，可以在工具栏上看到对应按钮：  \n",
    "![view as slide](README/view_as_slide_button.png)"
   ]
  },
  {
   "cell_type": "markdown",
   "metadata": {
    "slideshow": {
     "slide_type": "subslide"
    }
   },
   "source": [
    "## 自定义\n",
    "各种颜狗肯定无法忍受默认皮肤，幸好RISE提供自定义的方法。  \n",
    "参考[这里](https://damianavila.github.io/RISE/customize.html)进行自定义。"
   ]
  },
  {
   "cell_type": "markdown",
   "metadata": {
    "slideshow": {
     "slide_type": "slide"
    }
   },
   "source": [
    "# 部署发布"
   ]
  }
 ],
 "metadata": {
  "celltoolbar": "Raw Cell Format",
  "kernelspec": {
   "display_name": "Python 3",
   "language": "python",
   "name": "python3"
  },
  "language_info": {
   "codemirror_mode": {
    "name": "ipython",
    "version": 3
   },
   "file_extension": ".py",
   "mimetype": "text/x-python",
   "name": "python",
   "nbconvert_exporter": "python",
   "pygments_lexer": "ipython3",
   "version": "3.5.4"
  },
  "livereveal": {
   "theme": "night"
  },
  "toc": {
   "base_numbering": 1,
   "nav_menu": {
    "height": "289px",
    "width": "294px"
   },
   "number_sections": true,
   "sideBar": true,
   "skip_h1_title": false,
   "title_cell": "Table of Contents",
   "title_sidebar": "Contents",
   "toc_cell": true,
   "toc_position": {},
   "toc_section_display": true,
   "toc_window_display": false
  }
 },
 "nbformat": 4,
 "nbformat_minor": 2
}
